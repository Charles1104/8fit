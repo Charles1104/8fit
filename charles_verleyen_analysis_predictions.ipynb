{
 "cells": [
  {
   "cell_type": "markdown",
   "metadata": {},
   "source": [
    "##             <center>8FIT DATA SCIENCE ASSIGNMENT</center>                      "
   ]
  },
  {
   "cell_type": "markdown",
   "metadata": {},
   "source": [
    "**1\\. Import the different libraries to be used for the data exploration and prediction**"
   ]
  },
  {
   "cell_type": "code",
   "execution_count": 20,
   "metadata": {
    "collapsed": true
   },
   "outputs": [],
   "source": [
    "%matplotlib inline\n",
    "import matplotlib.pyplot as plt  # Data visualization\n",
    "import seaborn as sns # Data visualization\n",
    "import numpy as np   #fundamental package for scientific computing\n",
    "import pandas as pd  #fundamental package for data analysis\n",
    "from sklearn.ensemble import RandomForestClassifier # package for binary classification (decision tree)\n",
    "from sklearn.linear_model import LogisticRegression # package for binary classification (logistic regression)\n",
    "from sklearn import metrics # package for getting metrics out of the model\n",
    "from sklearn.metrics import confusion_matrix # package for getting metrics out of the model\n",
    "from sklearn.model_selection import train_test_split # package to split the data in a training and crossvalidation set\n",
    "from sklearn.model_selection import GridSearchCV # package to search and find the best hyperparameters on the model\n",
    "from sklearn.preprocessing import StandardScaler # package to scale (normalize) the features\n",
    "from sklearn.pipeline import Pipeline # package to create a pipeline for the machine learning model"
   ]
  },
  {
   "cell_type": "markdown",
   "metadata": {},
   "source": [
    "**2\\. Read the train_data csv file and assign it to a dataframe named \"df\"**"
   ]
  },
  {
   "cell_type": "code",
   "execution_count": 21,
   "metadata": {},
   "outputs": [],
   "source": [
    "df = pd.read_csv(\"data/train_data.csv.csv_fixed\")"
   ]
  },
  {
   "cell_type": "markdown",
   "metadata": {},
   "source": [
    "**3\\. Data exploration**"
   ]
  },
  {
   "cell_type": "code",
   "execution_count": 22,
   "metadata": {},
   "outputs": [
    {
     "data": {
      "text/html": [
       "<div>\n",
       "<style>\n",
       "    .dataframe thead tr:only-child th {\n",
       "        text-align: right;\n",
       "    }\n",
       "\n",
       "    .dataframe thead th {\n",
       "        text-align: left;\n",
       "    }\n",
       "\n",
       "    .dataframe tbody tr th {\n",
       "        vertical-align: top;\n",
       "    }\n",
       "</style>\n",
       "<table border=\"1\" class=\"dataframe\">\n",
       "  <thead>\n",
       "    <tr style=\"text-align: right;\">\n",
       "      <th></th>\n",
       "      <th>user_id</th>\n",
       "      <th>channel</th>\n",
       "      <th>age</th>\n",
       "      <th>os</th>\n",
       "      <th>gender</th>\n",
       "      <th>country</th>\n",
       "      <th>customer</th>\n",
       "    </tr>\n",
       "  </thead>\n",
       "  <tbody>\n",
       "    <tr>\n",
       "      <th>0</th>\n",
       "      <td>100000</td>\n",
       "      <td>00 Organic</td>\n",
       "      <td>20</td>\n",
       "      <td>ios</td>\n",
       "      <td>female</td>\n",
       "      <td>GB</td>\n",
       "      <td>0</td>\n",
       "    </tr>\n",
       "    <tr>\n",
       "      <th>1</th>\n",
       "      <td>100001</td>\n",
       "      <td>00 Organic</td>\n",
       "      <td>30</td>\n",
       "      <td>ios</td>\n",
       "      <td>female</td>\n",
       "      <td>US</td>\n",
       "      <td>1</td>\n",
       "    </tr>\n",
       "    <tr>\n",
       "      <th>2</th>\n",
       "      <td>100002</td>\n",
       "      <td>31 OUTBRAIN</td>\n",
       "      <td>35</td>\n",
       "      <td>ios</td>\n",
       "      <td>female</td>\n",
       "      <td>DE</td>\n",
       "      <td>0</td>\n",
       "    </tr>\n",
       "    <tr>\n",
       "      <th>3</th>\n",
       "      <td>100003</td>\n",
       "      <td>00 Organic</td>\n",
       "      <td>26</td>\n",
       "      <td>android</td>\n",
       "      <td>female</td>\n",
       "      <td>US</td>\n",
       "      <td>0</td>\n",
       "    </tr>\n",
       "    <tr>\n",
       "      <th>4</th>\n",
       "      <td>100004</td>\n",
       "      <td>32 Taboola</td>\n",
       "      <td>55</td>\n",
       "      <td>ios</td>\n",
       "      <td>female</td>\n",
       "      <td>US</td>\n",
       "      <td>1</td>\n",
       "    </tr>\n",
       "  </tbody>\n",
       "</table>\n",
       "</div>"
      ],
      "text/plain": [
       "   user_id      channel  age       os  gender country  customer\n",
       "0   100000   00 Organic   20      ios  female      GB         0\n",
       "1   100001   00 Organic   30      ios  female      US         1\n",
       "2   100002  31 OUTBRAIN   35      ios  female      DE         0\n",
       "3   100003   00 Organic   26  android  female      US         0\n",
       "4   100004   32 Taboola   55      ios  female      US         1"
      ]
     },
     "execution_count": 22,
     "metadata": {},
     "output_type": "execute_result"
    }
   ],
   "source": [
    "df.head() #quick look at the first five rows of the dataset"
   ]
  },
  {
   "cell_type": "code",
   "execution_count": 23,
   "metadata": {},
   "outputs": [
    {
     "data": {
      "text/plain": [
       "user_id     0\n",
       "channel     0\n",
       "age         0\n",
       "os          0\n",
       "gender      0\n",
       "country     0\n",
       "customer    0\n",
       "dtype: int64"
      ]
     },
     "execution_count": 23,
     "metadata": {},
     "output_type": "execute_result"
    }
   ],
   "source": [
    "df.isnull().sum() # clean dataset with no \"nan\" values in any columns"
   ]
  },
  {
   "cell_type": "code",
   "execution_count": 24,
   "metadata": {},
   "outputs": [
    {
     "name": "stdout",
     "output_type": "stream",
     "text": [
      "<class 'pandas.core.frame.DataFrame'>\n",
      "RangeIndex: 82908 entries, 0 to 82907\n",
      "Data columns (total 7 columns):\n",
      "user_id     82908 non-null int64\n",
      "channel     82908 non-null object\n",
      "age         82908 non-null int64\n",
      "os          82908 non-null object\n",
      "gender      82908 non-null object\n",
      "country     82908 non-null object\n",
      "customer    82908 non-null int64\n",
      "dtypes: int64(3), object(4)\n",
      "memory usage: 4.4+ MB\n"
     ]
    }
   ],
   "source": [
    "df.info() #high overview of the dataset with columns datatype"
   ]
  },
  {
   "cell_type": "markdown",
   "metadata": {},
   "source": [
    "*We can observe that the dataset contains data regarding 82908 users and that it has 7 columns. Three of them are numerical and four are objects (ie. string).*"
   ]
  },
  {
   "cell_type": "code",
   "execution_count": 25,
   "metadata": {},
   "outputs": [
    {
     "data": {
      "text/html": [
       "<div>\n",
       "<style>\n",
       "    .dataframe thead tr:only-child th {\n",
       "        text-align: right;\n",
       "    }\n",
       "\n",
       "    .dataframe thead th {\n",
       "        text-align: left;\n",
       "    }\n",
       "\n",
       "    .dataframe tbody tr th {\n",
       "        vertical-align: top;\n",
       "    }\n",
       "</style>\n",
       "<table border=\"1\" class=\"dataframe\">\n",
       "  <thead>\n",
       "    <tr style=\"text-align: right;\">\n",
       "      <th></th>\n",
       "      <th>user_id</th>\n",
       "      <th>age</th>\n",
       "      <th>customer</th>\n",
       "    </tr>\n",
       "  </thead>\n",
       "  <tbody>\n",
       "    <tr>\n",
       "      <th>count</th>\n",
       "      <td>82908.000000</td>\n",
       "      <td>82908.000000</td>\n",
       "      <td>82908.000000</td>\n",
       "    </tr>\n",
       "    <tr>\n",
       "      <th>mean</th>\n",
       "      <td>141453.500000</td>\n",
       "      <td>31.151734</td>\n",
       "      <td>0.297848</td>\n",
       "    </tr>\n",
       "    <tr>\n",
       "      <th>std</th>\n",
       "      <td>23933.622396</td>\n",
       "      <td>11.596902</td>\n",
       "      <td>0.457315</td>\n",
       "    </tr>\n",
       "    <tr>\n",
       "      <th>min</th>\n",
       "      <td>100000.000000</td>\n",
       "      <td>12.000000</td>\n",
       "      <td>0.000000</td>\n",
       "    </tr>\n",
       "    <tr>\n",
       "      <th>25%</th>\n",
       "      <td>120726.750000</td>\n",
       "      <td>22.000000</td>\n",
       "      <td>0.000000</td>\n",
       "    </tr>\n",
       "    <tr>\n",
       "      <th>50%</th>\n",
       "      <td>141453.500000</td>\n",
       "      <td>29.000000</td>\n",
       "      <td>0.000000</td>\n",
       "    </tr>\n",
       "    <tr>\n",
       "      <th>75%</th>\n",
       "      <td>162180.250000</td>\n",
       "      <td>38.000000</td>\n",
       "      <td>1.000000</td>\n",
       "    </tr>\n",
       "    <tr>\n",
       "      <th>max</th>\n",
       "      <td>182907.000000</td>\n",
       "      <td>96.000000</td>\n",
       "      <td>1.000000</td>\n",
       "    </tr>\n",
       "  </tbody>\n",
       "</table>\n",
       "</div>"
      ],
      "text/plain": [
       "             user_id           age      customer\n",
       "count   82908.000000  82908.000000  82908.000000\n",
       "mean   141453.500000     31.151734      0.297848\n",
       "std     23933.622396     11.596902      0.457315\n",
       "min    100000.000000     12.000000      0.000000\n",
       "25%    120726.750000     22.000000      0.000000\n",
       "50%    141453.500000     29.000000      0.000000\n",
       "75%    162180.250000     38.000000      1.000000\n",
       "max    182907.000000     96.000000      1.000000"
      ]
     },
     "execution_count": 25,
     "metadata": {},
     "output_type": "execute_result"
    }
   ],
   "source": [
    "df.describe() #handy statistics about numerical columns"
   ]
  },
  {
   "cell_type": "markdown",
   "metadata": {},
   "source": [
    "*The describe method gives us basic statistic on the numerical columns. We can observe that the average age of the users in our dataset is at 31 years and that the data contains 70% of non-customers and 30% of customers (mean customer is at 0.297848). The dataset is therefore slightly unbalanced on the target variable.*"
   ]
  },
  {
   "cell_type": "code",
   "execution_count": 26,
   "metadata": {},
   "outputs": [
    {
     "data": {
      "text/plain": [
       "0    58214\n",
       "1    24694\n",
       "Name: customer, dtype: int64"
      ]
     },
     "execution_count": 26,
     "metadata": {},
     "output_type": "execute_result"
    }
   ],
   "source": [
    "df['customer'].value_counts() # Quick check on the values in the customer column"
   ]
  },
  {
   "cell_type": "code",
   "execution_count": 27,
   "metadata": {},
   "outputs": [
    {
     "data": {
      "text/plain": [
       "00 Organic             21795\n",
       "12 PINTEREST           13564\n",
       "11 FB                   8857\n",
       "22 Adwords (Search)     7371\n",
       "95 LAT                  7043\n",
       "41 Youtube              6522\n",
       "31 OUTBRAIN             6237\n",
       "42 Adcolony             4806\n",
       "32 Taboola              2789\n",
       "21 ASA                  2108\n",
       "69 Others                876\n",
       "62 Social Media          550\n",
       "61 Web/Content           390\n",
       "Name: channel, dtype: int64"
      ]
     },
     "execution_count": 27,
     "metadata": {},
     "output_type": "execute_result"
    }
   ],
   "source": [
    "df[\"channel\"].value_counts() # Quick check on the values in the channel column"
   ]
  },
  {
   "cell_type": "code",
   "execution_count": 28,
   "metadata": {},
   "outputs": [
    {
     "data": {
      "text/plain": [
       "US    50855\n",
       "GB     9226\n",
       "MX     5755\n",
       "CA     4483\n",
       "ES     4172\n",
       "AU     3398\n",
       "DE     2849\n",
       "FR     2170\n",
       "Name: country, dtype: int64"
      ]
     },
     "execution_count": 28,
     "metadata": {},
     "output_type": "execute_result"
    }
   ],
   "source": [
    "df[\"country\"].value_counts() # Quick check on the values in the customer column"
   ]
  },
  {
   "cell_type": "code",
   "execution_count": 29,
   "metadata": {},
   "outputs": [
    {
     "data": {
      "text/plain": [
       "array([12, 13, 14, 15, 16, 17, 18, 19, 20, 21, 22, 23, 24, 25, 26, 27, 28,\n",
       "       29, 30, 31, 32, 33, 34, 35, 36, 37, 38, 39, 40, 41, 42, 43, 44, 45,\n",
       "       46, 47, 48, 49, 50, 51, 52, 53, 54, 55, 56, 57, 58, 59, 60, 61, 62,\n",
       "       63, 64, 65, 66, 67, 68, 69, 70, 71, 72, 73, 74, 75, 76, 77, 78, 79,\n",
       "       80, 81, 82, 83, 85, 86, 87, 94, 95, 96])"
      ]
     },
     "execution_count": 29,
     "metadata": {},
     "output_type": "execute_result"
    }
   ],
   "source": [
    "np.sort(df[\"age\"].unique()) # Quick check on the values in the age column"
   ]
  },
  {
   "cell_type": "code",
   "execution_count": 30,
   "metadata": {},
   "outputs": [
    {
     "data": {
      "text/plain": [
       "female    57031\n",
       "male      25877\n",
       "Name: gender, dtype: int64"
      ]
     },
     "execution_count": 30,
     "metadata": {},
     "output_type": "execute_result"
    }
   ],
   "source": [
    "df[\"gender\"].value_counts() # Quick check on the values in the gender column"
   ]
  },
  {
   "cell_type": "code",
   "execution_count": 31,
   "metadata": {},
   "outputs": [
    {
     "data": {
      "text/plain": [
       "ios        48662\n",
       "android    34246\n",
       "Name: os, dtype: int64"
      ]
     },
     "execution_count": 31,
     "metadata": {},
     "output_type": "execute_result"
    }
   ],
   "source": [
    "df[\"os\"].value_counts() # Quick check on the values in the os column"
   ]
  },
  {
   "cell_type": "markdown",
   "metadata": {},
   "source": [
    "**4\\. Data visualization**"
   ]
  },
  {
   "cell_type": "code",
   "execution_count": 32,
   "metadata": {},
   "outputs": [
    {
     "data": {
      "image/png": "[encoded data removed]",
      "text/plain": [
       "<matplotlib.figure.Figure at 0x7f44de5c04e0>"
      ]
     },
     "metadata": {},
     "output_type": "display_data"
    }
   ],
   "source": [
    "# Set up a grid of plots\n",
    "fig = plt.figure(figsize=(20, 20)) \n",
    "fig_dims = (3, 3)\n",
    "\n",
    "# Plot channel counts\n",
    "plt.subplot2grid(fig_dims, (0, 0))\n",
    "df['channel'].value_counts().plot(kind='bar', title='Channel Counts')\n",
    "\n",
    "# Plot age counts as a hist\n",
    "plt.subplot2grid(fig_dims, (0, 1))\n",
    "df['age'].hist(rwidth = 0.8, zorder=5)\n",
    "plt.title('Age Histogram')\n",
    "\n",
    "# Plot os counts\n",
    "plt.subplot2grid(fig_dims, (1, 0))\n",
    "df['os'].value_counts().plot(kind='bar', title='Os Counts')\n",
    "plt.xticks(rotation=0)\n",
    "\n",
    "# Plot gender counts\n",
    "plt.subplot2grid(fig_dims, (1, 1))\n",
    "df['gender'].value_counts().plot(kind='bar', title='Gender Counts')\n",
    "plt.xticks(rotation=0)\n",
    "\n",
    "# Plot country counts\n",
    "plt.subplot2grid(fig_dims, (2, 0))\n",
    "df['country'].value_counts().plot(kind='bar', title='Country Counts')\n",
    "\n",
    "# Plot customer counts\n",
    "plt.subplot2grid(fig_dims, (2, 1))\n",
    "df['customer'].value_counts().plot(kind='bar', title='Customer Counts')\n",
    "plt.xticks(rotation=0)\n",
    "\n",
    "plt.tight_layout()"
   ]
  },
  {
   "cell_type": "markdown",
   "metadata": {},
   "source": [
    "*These six charts enable to get a good grasp about our dataset. Some insights:*\n",
    "- *Half of the users come from the following three channels: Organic, Pinterest and Facebook*\n",
    "- *The users are mainly between 20 and forty years old.*\n",
    "- *There are more users on Android but the difference is slight*\n",
    "- *The females clearly outnumber the number of males (more than the double)*\n",
    "- *US is the country with most users by far (more than half of the total users)*\n"
   ]
  },
  {
   "cell_type": "code",
   "execution_count": 33,
   "metadata": {},
   "outputs": [
    {
     "data": {
      "image/png": "[encoded data removed]",
      "text/plain": [
       "<matplotlib.figure.Figure at 0x7f44de6196d8>"
      ]
     },
     "metadata": {},
     "output_type": "display_data"
    }
   ],
   "source": [
    "# We now check the the correlation between \n",
    "\n",
    "chan = pd.crosstab(df['channel'],df['customer'])\n",
    "chan = chan.div(chan.sum(1).astype(float), axis=0)\n",
    "\n",
    "chan.plot(kind='bar', stacked=True, title='Customer conversion per channel')\n",
    "plt.xlabel('Passenger Class')\n",
    "plt.ylabel('Survival Rate')\n",
    "\n",
    "fig = plt.gcf()\n",
    "fig.set_size_inches(15, 5)"
   ]
  },
  {
   "cell_type": "markdown",
   "metadata": {},
   "source": [
    "*We can see that the users using the channel \"OUTBRAIN\" and \"TABOOLA\" have higher probability to convert into customers (with 40%). Otherwise the probability is between 20% and 30%."
   ]
  },
  {
   "cell_type": "code",
   "execution_count": 34,
   "metadata": {
    "scrolled": true
   },
   "outputs": [
    {
     "data": {
      "image/png": "[encoded data removed]",
      "text/plain": [
       "<matplotlib.figure.Figure at 0x7f44de622c88>"
      ]
     },
     "metadata": {},
     "output_type": "display_data"
    }
   ],
   "source": [
    "bins = [0, 5, 10, 15, 20, 25, 30, 35, 40, 45, 50, 55, 60, 65, 70, 75, 80, 85, 90, 95, 100]\n",
    "group_names = ['0-5', '5-10','10-15', '15-20', '20-25', '25-30',\n",
    "               '30-35', '35-40','40-45', '45-50', '50-55', '55-60','60-65',\n",
    "               '65-70','70-75','75-80','80-85','85-90','90-95','95-100' ]\n",
    "df['age_groups'] = pd.cut(df['age'], bins, labels = group_names)\n",
    "pd.crosstab(df['age_groups'], df['customer']).plot(kind = 'bar', figsize = (15, 5))\n",
    "\n",
    "plt.title('Customer conversion per age')\n",
    "plt.xlabel('Age groups')\n",
    "plt.ylabel('Frequency')\n",
    "del df['age_groups']"
   ]
  },
  {
   "cell_type": "markdown",
   "metadata": {},
   "source": [
    "**5\\. Data Cleaning**"
   ]
  },
  {
   "cell_type": "code",
   "execution_count": 35,
   "metadata": {
    "collapsed": true
   },
   "outputs": [],
   "source": [
    "def cleaning(df):\n",
    "    df = df.drop('user_id', axis = 1) #remove the user_id as this is irrelevant for the prediction\n",
    "    \n",
    "    for i in df.columns: #loop on every object column and convert it to dommuy variable\n",
    "        if df[i].dtype == \"O\":\n",
    "            df = pd.concat([df, pd.get_dummies(df[i], prefix = i)], axis=1)\n",
    "            del df[i]\n",
    "    \n",
    "    if 'customer' in df.columns: # as the cleaning will be performed also on the test and it does not contain the customer column\n",
    "        df_y = df[\"customer\"]\n",
    "        df_x = df.drop([\"customer\"], axis = 1)\n",
    "        return df_x, df_y\n",
    "    else:\n",
    "        return df"
   ]
  },
  {
   "cell_type": "markdown",
   "metadata": {},
   "source": [
    "**6\\. Machine Learning (Prediction)**"
   ]
  },
  {
   "cell_type": "code",
   "execution_count": 36,
   "metadata": {
    "collapsed": true
   },
   "outputs": [],
   "source": [
    "# #return a two dataframes that will be used for fitting a machine learning model (df_x and df_y)\n",
    "df_x, df_y = cleaning(df)"
   ]
  },
  {
   "cell_type": "code",
   "execution_count": 37,
   "metadata": {},
   "outputs": [
    {
     "name": "stdout",
     "output_type": "stream",
     "text": [
      "<class 'pandas.core.frame.DataFrame'>\n",
      "RangeIndex: 82908 entries, 0 to 82907\n",
      "Data columns (total 26 columns):\n",
      "age                            82908 non-null int64\n",
      "channel_00 Organic             82908 non-null uint8\n",
      "channel_11 FB                  82908 non-null uint8\n",
      "channel_12 PINTEREST           82908 non-null uint8\n",
      "channel_21 ASA                 82908 non-null uint8\n",
      "channel_22 Adwords (Search)    82908 non-null uint8\n",
      "channel_31 OUTBRAIN            82908 non-null uint8\n",
      "channel_32 Taboola             82908 non-null uint8\n",
      "channel_41 Youtube             82908 non-null uint8\n",
      "channel_42 Adcolony            82908 non-null uint8\n",
      "channel_61 Web/Content         82908 non-null uint8\n",
      "channel_62 Social Media        82908 non-null uint8\n",
      "channel_69 Others              82908 non-null uint8\n",
      "channel_95 LAT                 82908 non-null uint8\n",
      "os_android                     82908 non-null uint8\n",
      "os_ios                         82908 non-null uint8\n",
      "gender_female                  82908 non-null uint8\n",
      "gender_male                    82908 non-null uint8\n",
      "country_AU                     82908 non-null uint8\n",
      "country_CA                     82908 non-null uint8\n",
      "country_DE                     82908 non-null uint8\n",
      "country_ES                     82908 non-null uint8\n",
      "country_FR                     82908 non-null uint8\n",
      "country_GB                     82908 non-null uint8\n",
      "country_MX                     82908 non-null uint8\n",
      "country_US                     82908 non-null uint8\n",
      "dtypes: int64(1), uint8(25)\n",
      "memory usage: 2.6 MB\n"
     ]
    }
   ],
   "source": [
    "df_x.info() #sanity check to see that there are no more columns of type \"Objects\""
   ]
  },
  {
   "cell_type": "code",
   "execution_count": 38,
   "metadata": {},
   "outputs": [
    {
     "name": "stdout",
     "output_type": "stream",
     "text": [
      "size of original df:  82908\n",
      "size of training df:  66326\n",
      "size of cross-validation df:  16582\n"
     ]
    }
   ],
   "source": [
    "# Split the dataset in a train set with 80% of the data and a cross-validation set with 20% of the data\n",
    "train_x, cv_x, train_y, cv_y = train_test_split(df_x, df_y, test_size=0.2, random_state=0)\n",
    "print (\"size of original df: \",df_x.shape[0])\n",
    "print (\"size of training df: \",train_x.shape[0])\n",
    "print (\"size of cross-validation df: \",cv_x.shape[0])"
   ]
  },
  {
   "cell_type": "code",
   "execution_count": 39,
   "metadata": {},
   "outputs": [
    {
     "name": "stdout",
     "output_type": "stream",
     "text": [
      "Grid best parameter (max. accuracy):  {'logisticregression__C': 1, 'logisticregression__max_iter': 100}\n",
      "Grid best score (accuracy):  0.70705304104\n"
     ]
    }
   ],
   "source": [
    "# Logistic Regression model\n",
    "\n",
    "estimators = [\n",
    "            ('scale_predictors', StandardScaler()),\n",
    "            ('logisticregression', LogisticRegression())\n",
    "            ]\n",
    "\n",
    "clf = Pipeline(estimators)\n",
    "\n",
    "grid_values = dict(logisticregression__C = [0.03, 0.1, 0.3, 1, 3, 10], # Inverse of the regularization factor.\n",
    "               logisticregression__max_iter= [100, 500, 1000],\n",
    "                  )\n",
    "              \n",
    "\n",
    "# default metric to optimize over grid parameters: accuracy\n",
    "grid_clf_acc = GridSearchCV(clf, param_grid = grid_values, scoring = 'accuracy')\n",
    "grid_clf_acc.fit(train_x, train_y)\n",
    "\n",
    "y_pred = grid_clf_acc.predict(cv_x) # array with 1 and 0 for the prediction on cv_x. Needed for the confusion matrix\n",
    "\n",
    "print('Grid best parameter (max. accuracy): ', grid_clf_acc.best_params_)\n",
    "print('Grid best score (accuracy): ', grid_clf_acc.best_score_)"
   ]
  },
  {
   "cell_type": "markdown",
   "metadata": {},
   "source": [
    "*The accuracy (based on the misclassification rate) is at 70% on the cross-validation set. This is not a great result and more feature engineering should be performed to improve the results.*"
   ]
  },
  {
   "cell_type": "code",
   "execution_count": 40,
   "metadata": {
    "collapsed": true
   },
   "outputs": [],
   "source": [
    "def performance(results, param1, param2):\n",
    "    param1_vals = list(results.cv_results_['param_' + str(param1)])\n",
    "    param2_vals = list(results.cv_results_['param_' + str(param2)])\n",
    "    means = [x for x in results.cv_results_['mean_test_score']]\n",
    "    df = pd.DataFrame(list(zip(param1_vals, param2_vals, means)), columns = [param1, param2, 'means'])\n",
    "    df.fillna('None', inplace=True)\n",
    "    return pd.pivot_table(df, values = 'means' , index = param1, columns = param2)"
   ]
  },
  {
   "cell_type": "code",
   "execution_count": 134,
   "metadata": {},
   "outputs": [
    {
     "name": "stdout",
     "output_type": "stream",
     "text": [
      "logisticregression__max_iter      100       500       1000\n",
      "logisticregression__C                                     \n",
      "0.03                          0.707008  0.707008  0.707008\n",
      "0.10                          0.707038  0.707038  0.707038\n",
      "0.30                          0.707038  0.707038  0.707038\n",
      "1.00                          0.707053  0.707053  0.707053\n",
      "3.00                          0.707053  0.707053  0.707053\n",
      "10.00                         0.707053  0.707053  0.707053\n"
     ]
    }
   ],
   "source": [
    "a = list(grid_clf_acc.param_grid) # get the list of hyper-parameters we are searching (C and max_iter)\n",
    "train_results = performance(grid_clf_acc, a[0],  a[1]) # apply the performance function on our model\n",
    "print(train_results)"
   ]
  },
  {
   "cell_type": "markdown",
   "metadata": {},
   "source": [
    "*Results are almost identical for any combinations (extremely small difference) and best result is achieved with C of 1 and higher. Numbers of iteration do not change the results.*"
   ]
  },
  {
   "cell_type": "code",
   "execution_count": 140,
   "metadata": {},
   "outputs": [
    {
     "data": {
      "text/html": [
       "<div>\n",
       "<style>\n",
       "    .dataframe thead tr:only-child th {\n",
       "        text-align: right;\n",
       "    }\n",
       "\n",
       "    .dataframe thead th {\n",
       "        text-align: left;\n",
       "    }\n",
       "\n",
       "    .dataframe tbody tr th {\n",
       "        vertical-align: top;\n",
       "    }\n",
       "</style>\n",
       "<table border=\"1\" class=\"dataframe\">\n",
       "  <thead>\n",
       "    <tr style=\"text-align: right;\">\n",
       "      <th></th>\n",
       "      <th>0</th>\n",
       "      <th>1</th>\n",
       "    </tr>\n",
       "  </thead>\n",
       "  <tbody>\n",
       "    <tr>\n",
       "      <th>0</th>\n",
       "      <td>11226</td>\n",
       "      <td>373</td>\n",
       "    </tr>\n",
       "    <tr>\n",
       "      <th>1</th>\n",
       "      <td>4530</td>\n",
       "      <td>453</td>\n",
       "    </tr>\n",
       "  </tbody>\n",
       "</table>\n",
       "</div>"
      ],
      "text/plain": [
       "       0    1\n",
       "0  11226  373\n",
       "1   4530  453"
      ]
     },
     "execution_count": 140,
     "metadata": {},
     "output_type": "execute_result"
    }
   ],
   "source": [
    "pd.DataFrame(confusion_matrix(cv_y, y_pred))"
   ]
  },
  {
   "cell_type": "code",
   "execution_count": 40,
   "metadata": {},
   "outputs": [
    {
     "name": "stdout",
     "output_type": "stream",
     "text": [
      "Grid best parameter (max. accuracy):  {'randomforests__max_depth': None, 'randomforests__n_estimators': 100}\n",
      "Grid best score (accuracy):  0.679552513343\n"
     ]
    }
   ],
   "source": [
    "#Random Forest\n",
    "\n",
    "estimators = [\n",
    "            ('scale_predictors', StandardScaler()),\n",
    "            ('randomforests', RandomForestClassifier())\n",
    "            ]\n",
    "\n",
    "clf = Pipeline(estimators)\n",
    "\n",
    "grid_values = dict(randomforests__max_depth=[None], \n",
    "                   randomforests__n_estimators=[10, 100])\n",
    "              \n",
    "# default metric to optimize over grid parameters: accuracy\n",
    "grid_clf_acc = GridSearchCV(clf, param_grid = grid_values, scoring = 'accuracy')\n",
    "grid_clf_acc.fit(train_x, train_y)\n",
    "\n",
    "print('Grid best parameter (max. accuracy): ', grid_clf_acc.best_params_)\n",
    "print('Grid best score (accuracy): ', grid_clf_acc.best_score_)"
   ]
  },
  {
   "cell_type": "markdown",
   "metadata": {},
   "source": [
    "*Random forest result is at 67% on our cross-validation set. "
   ]
  },
  {
   "cell_type": "markdown",
   "metadata": {},
   "source": [
    "**7\\. Prediction on the test set**"
   ]
  },
  {
   "cell_type": "code",
   "execution_count": 8,
   "metadata": {
    "collapsed": true
   },
   "outputs": [],
   "source": [
    "df_test_set = pd.read_csv(\"data/test_data.csv.csv_fixed\")"
   ]
  },
  {
   "cell_type": "code",
   "execution_count": 19,
   "metadata": {},
   "outputs": [],
   "source": [
    "df_test_x = cleaning(df_test_set)"
   ]
  },
  {
   "cell_type": "code",
   "execution_count": 42,
   "metadata": {},
   "outputs": [],
   "source": [
    "predict_y = grid_clf_acc.predict(df_test_x)"
   ]
  },
  {
   "cell_type": "code",
   "execution_count": 52,
   "metadata": {},
   "outputs": [],
   "source": [
    "df_test_set[\"customer\"] = predict_y"
   ]
  },
  {
   "cell_type": "code",
   "execution_count": 53,
   "metadata": {},
   "outputs": [
    {
     "data": {
      "text/html": [
       "<div>\n",
       "<style>\n",
       "    .dataframe thead tr:only-child th {\n",
       "        text-align: right;\n",
       "    }\n",
       "\n",
       "    .dataframe thead th {\n",
       "        text-align: left;\n",
       "    }\n",
       "\n",
       "    .dataframe tbody tr th {\n",
       "        vertical-align: top;\n",
       "    }\n",
       "</style>\n",
       "<table border=\"1\" class=\"dataframe\">\n",
       "  <thead>\n",
       "    <tr style=\"text-align: right;\">\n",
       "      <th></th>\n",
       "      <th>user_id</th>\n",
       "      <th>channel</th>\n",
       "      <th>age</th>\n",
       "      <th>os</th>\n",
       "      <th>gender</th>\n",
       "      <th>country</th>\n",
       "      <th>customer</th>\n",
       "    </tr>\n",
       "  </thead>\n",
       "  <tbody>\n",
       "    <tr>\n",
       "      <th>0</th>\n",
       "      <td>0</td>\n",
       "      <td>42 Adcolony</td>\n",
       "      <td>32</td>\n",
       "      <td>android</td>\n",
       "      <td>female</td>\n",
       "      <td>US</td>\n",
       "      <td>0</td>\n",
       "    </tr>\n",
       "    <tr>\n",
       "      <th>1</th>\n",
       "      <td>1</td>\n",
       "      <td>12 PINTEREST</td>\n",
       "      <td>27</td>\n",
       "      <td>android</td>\n",
       "      <td>female</td>\n",
       "      <td>US</td>\n",
       "      <td>0</td>\n",
       "    </tr>\n",
       "    <tr>\n",
       "      <th>2</th>\n",
       "      <td>2</td>\n",
       "      <td>00 Organic</td>\n",
       "      <td>36</td>\n",
       "      <td>ios</td>\n",
       "      <td>male</td>\n",
       "      <td>GB</td>\n",
       "      <td>0</td>\n",
       "    </tr>\n",
       "    <tr>\n",
       "      <th>3</th>\n",
       "      <td>3</td>\n",
       "      <td>42 Adcolony</td>\n",
       "      <td>29</td>\n",
       "      <td>ios</td>\n",
       "      <td>female</td>\n",
       "      <td>US</td>\n",
       "      <td>0</td>\n",
       "    </tr>\n",
       "    <tr>\n",
       "      <th>4</th>\n",
       "      <td>4</td>\n",
       "      <td>12 PINTEREST</td>\n",
       "      <td>20</td>\n",
       "      <td>ios</td>\n",
       "      <td>female</td>\n",
       "      <td>CA</td>\n",
       "      <td>0</td>\n",
       "    </tr>\n",
       "    <tr>\n",
       "      <th>5</th>\n",
       "      <td>5</td>\n",
       "      <td>00 Organic</td>\n",
       "      <td>47</td>\n",
       "      <td>ios</td>\n",
       "      <td>female</td>\n",
       "      <td>US</td>\n",
       "      <td>0</td>\n",
       "    </tr>\n",
       "    <tr>\n",
       "      <th>6</th>\n",
       "      <td>6</td>\n",
       "      <td>00 Organic</td>\n",
       "      <td>27</td>\n",
       "      <td>android</td>\n",
       "      <td>female</td>\n",
       "      <td>CA</td>\n",
       "      <td>0</td>\n",
       "    </tr>\n",
       "    <tr>\n",
       "      <th>7</th>\n",
       "      <td>7</td>\n",
       "      <td>22 Adwords (Search)</td>\n",
       "      <td>20</td>\n",
       "      <td>android</td>\n",
       "      <td>female</td>\n",
       "      <td>DE</td>\n",
       "      <td>0</td>\n",
       "    </tr>\n",
       "    <tr>\n",
       "      <th>8</th>\n",
       "      <td>8</td>\n",
       "      <td>00 Organic</td>\n",
       "      <td>15</td>\n",
       "      <td>ios</td>\n",
       "      <td>female</td>\n",
       "      <td>US</td>\n",
       "      <td>0</td>\n",
       "    </tr>\n",
       "    <tr>\n",
       "      <th>9</th>\n",
       "      <td>9</td>\n",
       "      <td>12 PINTEREST</td>\n",
       "      <td>35</td>\n",
       "      <td>ios</td>\n",
       "      <td>female</td>\n",
       "      <td>US</td>\n",
       "      <td>0</td>\n",
       "    </tr>\n",
       "    <tr>\n",
       "      <th>10</th>\n",
       "      <td>10</td>\n",
       "      <td>69 Others</td>\n",
       "      <td>38</td>\n",
       "      <td>ios</td>\n",
       "      <td>female</td>\n",
       "      <td>US</td>\n",
       "      <td>0</td>\n",
       "    </tr>\n",
       "    <tr>\n",
       "      <th>11</th>\n",
       "      <td>11</td>\n",
       "      <td>00 Organic</td>\n",
       "      <td>28</td>\n",
       "      <td>ios</td>\n",
       "      <td>female</td>\n",
       "      <td>US</td>\n",
       "      <td>0</td>\n",
       "    </tr>\n",
       "    <tr>\n",
       "      <th>12</th>\n",
       "      <td>12</td>\n",
       "      <td>11 FB</td>\n",
       "      <td>46</td>\n",
       "      <td>android</td>\n",
       "      <td>male</td>\n",
       "      <td>CA</td>\n",
       "      <td>0</td>\n",
       "    </tr>\n",
       "    <tr>\n",
       "      <th>13</th>\n",
       "      <td>13</td>\n",
       "      <td>11 FB</td>\n",
       "      <td>35</td>\n",
       "      <td>ios</td>\n",
       "      <td>female</td>\n",
       "      <td>FR</td>\n",
       "      <td>0</td>\n",
       "    </tr>\n",
       "    <tr>\n",
       "      <th>14</th>\n",
       "      <td>14</td>\n",
       "      <td>00 Organic</td>\n",
       "      <td>26</td>\n",
       "      <td>ios</td>\n",
       "      <td>female</td>\n",
       "      <td>US</td>\n",
       "      <td>0</td>\n",
       "    </tr>\n",
       "    <tr>\n",
       "      <th>15</th>\n",
       "      <td>15</td>\n",
       "      <td>12 PINTEREST</td>\n",
       "      <td>21</td>\n",
       "      <td>ios</td>\n",
       "      <td>female</td>\n",
       "      <td>US</td>\n",
       "      <td>0</td>\n",
       "    </tr>\n",
       "    <tr>\n",
       "      <th>16</th>\n",
       "      <td>16</td>\n",
       "      <td>22 Adwords (Search)</td>\n",
       "      <td>35</td>\n",
       "      <td>android</td>\n",
       "      <td>female</td>\n",
       "      <td>MX</td>\n",
       "      <td>0</td>\n",
       "    </tr>\n",
       "    <tr>\n",
       "      <th>17</th>\n",
       "      <td>17</td>\n",
       "      <td>11 FB</td>\n",
       "      <td>23</td>\n",
       "      <td>android</td>\n",
       "      <td>male</td>\n",
       "      <td>US</td>\n",
       "      <td>0</td>\n",
       "    </tr>\n",
       "    <tr>\n",
       "      <th>18</th>\n",
       "      <td>18</td>\n",
       "      <td>12 PINTEREST</td>\n",
       "      <td>46</td>\n",
       "      <td>android</td>\n",
       "      <td>male</td>\n",
       "      <td>CA</td>\n",
       "      <td>0</td>\n",
       "    </tr>\n",
       "    <tr>\n",
       "      <th>19</th>\n",
       "      <td>19</td>\n",
       "      <td>95 LAT</td>\n",
       "      <td>42</td>\n",
       "      <td>ios</td>\n",
       "      <td>female</td>\n",
       "      <td>US</td>\n",
       "      <td>0</td>\n",
       "    </tr>\n",
       "    <tr>\n",
       "      <th>20</th>\n",
       "      <td>20</td>\n",
       "      <td>22 Adwords (Search)</td>\n",
       "      <td>22</td>\n",
       "      <td>android</td>\n",
       "      <td>female</td>\n",
       "      <td>US</td>\n",
       "      <td>0</td>\n",
       "    </tr>\n",
       "    <tr>\n",
       "      <th>21</th>\n",
       "      <td>21</td>\n",
       "      <td>12 PINTEREST</td>\n",
       "      <td>58</td>\n",
       "      <td>android</td>\n",
       "      <td>male</td>\n",
       "      <td>AU</td>\n",
       "      <td>1</td>\n",
       "    </tr>\n",
       "    <tr>\n",
       "      <th>22</th>\n",
       "      <td>22</td>\n",
       "      <td>12 PINTEREST</td>\n",
       "      <td>46</td>\n",
       "      <td>android</td>\n",
       "      <td>female</td>\n",
       "      <td>US</td>\n",
       "      <td>0</td>\n",
       "    </tr>\n",
       "    <tr>\n",
       "      <th>23</th>\n",
       "      <td>23</td>\n",
       "      <td>41 Youtube</td>\n",
       "      <td>39</td>\n",
       "      <td>ios</td>\n",
       "      <td>female</td>\n",
       "      <td>US</td>\n",
       "      <td>0</td>\n",
       "    </tr>\n",
       "    <tr>\n",
       "      <th>24</th>\n",
       "      <td>24</td>\n",
       "      <td>00 Organic</td>\n",
       "      <td>36</td>\n",
       "      <td>ios</td>\n",
       "      <td>female</td>\n",
       "      <td>US</td>\n",
       "      <td>0</td>\n",
       "    </tr>\n",
       "    <tr>\n",
       "      <th>25</th>\n",
       "      <td>25</td>\n",
       "      <td>21 ASA</td>\n",
       "      <td>41</td>\n",
       "      <td>ios</td>\n",
       "      <td>female</td>\n",
       "      <td>US</td>\n",
       "      <td>0</td>\n",
       "    </tr>\n",
       "    <tr>\n",
       "      <th>26</th>\n",
       "      <td>26</td>\n",
       "      <td>00 Organic</td>\n",
       "      <td>14</td>\n",
       "      <td>ios</td>\n",
       "      <td>female</td>\n",
       "      <td>US</td>\n",
       "      <td>0</td>\n",
       "    </tr>\n",
       "    <tr>\n",
       "      <th>27</th>\n",
       "      <td>27</td>\n",
       "      <td>41 Youtube</td>\n",
       "      <td>22</td>\n",
       "      <td>android</td>\n",
       "      <td>male</td>\n",
       "      <td>ES</td>\n",
       "      <td>0</td>\n",
       "    </tr>\n",
       "    <tr>\n",
       "      <th>28</th>\n",
       "      <td>28</td>\n",
       "      <td>41 Youtube</td>\n",
       "      <td>12</td>\n",
       "      <td>ios</td>\n",
       "      <td>male</td>\n",
       "      <td>US</td>\n",
       "      <td>0</td>\n",
       "    </tr>\n",
       "    <tr>\n",
       "      <th>29</th>\n",
       "      <td>29</td>\n",
       "      <td>22 Adwords (Search)</td>\n",
       "      <td>23</td>\n",
       "      <td>android</td>\n",
       "      <td>male</td>\n",
       "      <td>US</td>\n",
       "      <td>0</td>\n",
       "    </tr>\n",
       "    <tr>\n",
       "      <th>...</th>\n",
       "      <td>...</td>\n",
       "      <td>...</td>\n",
       "      <td>...</td>\n",
       "      <td>...</td>\n",
       "      <td>...</td>\n",
       "      <td>...</td>\n",
       "      <td>...</td>\n",
       "    </tr>\n",
       "    <tr>\n",
       "      <th>9970</th>\n",
       "      <td>9970</td>\n",
       "      <td>21 ASA</td>\n",
       "      <td>32</td>\n",
       "      <td>ios</td>\n",
       "      <td>female</td>\n",
       "      <td>US</td>\n",
       "      <td>0</td>\n",
       "    </tr>\n",
       "    <tr>\n",
       "      <th>9971</th>\n",
       "      <td>9971</td>\n",
       "      <td>12 PINTEREST</td>\n",
       "      <td>48</td>\n",
       "      <td>android</td>\n",
       "      <td>female</td>\n",
       "      <td>CA</td>\n",
       "      <td>0</td>\n",
       "    </tr>\n",
       "    <tr>\n",
       "      <th>9972</th>\n",
       "      <td>9972</td>\n",
       "      <td>41 Youtube</td>\n",
       "      <td>34</td>\n",
       "      <td>android</td>\n",
       "      <td>female</td>\n",
       "      <td>US</td>\n",
       "      <td>0</td>\n",
       "    </tr>\n",
       "    <tr>\n",
       "      <th>9973</th>\n",
       "      <td>9973</td>\n",
       "      <td>00 Organic</td>\n",
       "      <td>18</td>\n",
       "      <td>ios</td>\n",
       "      <td>female</td>\n",
       "      <td>US</td>\n",
       "      <td>0</td>\n",
       "    </tr>\n",
       "    <tr>\n",
       "      <th>9974</th>\n",
       "      <td>9974</td>\n",
       "      <td>22 Adwords (Search)</td>\n",
       "      <td>26</td>\n",
       "      <td>ios</td>\n",
       "      <td>male</td>\n",
       "      <td>US</td>\n",
       "      <td>0</td>\n",
       "    </tr>\n",
       "    <tr>\n",
       "      <th>9975</th>\n",
       "      <td>9975</td>\n",
       "      <td>95 LAT</td>\n",
       "      <td>54</td>\n",
       "      <td>ios</td>\n",
       "      <td>male</td>\n",
       "      <td>US</td>\n",
       "      <td>1</td>\n",
       "    </tr>\n",
       "    <tr>\n",
       "      <th>9976</th>\n",
       "      <td>9976</td>\n",
       "      <td>00 Organic</td>\n",
       "      <td>57</td>\n",
       "      <td>ios</td>\n",
       "      <td>female</td>\n",
       "      <td>US</td>\n",
       "      <td>1</td>\n",
       "    </tr>\n",
       "    <tr>\n",
       "      <th>9977</th>\n",
       "      <td>9977</td>\n",
       "      <td>22 Adwords (Search)</td>\n",
       "      <td>32</td>\n",
       "      <td>android</td>\n",
       "      <td>male</td>\n",
       "      <td>US</td>\n",
       "      <td>0</td>\n",
       "    </tr>\n",
       "    <tr>\n",
       "      <th>9978</th>\n",
       "      <td>9978</td>\n",
       "      <td>22 Adwords (Search)</td>\n",
       "      <td>60</td>\n",
       "      <td>android</td>\n",
       "      <td>female</td>\n",
       "      <td>US</td>\n",
       "      <td>0</td>\n",
       "    </tr>\n",
       "    <tr>\n",
       "      <th>9979</th>\n",
       "      <td>9979</td>\n",
       "      <td>21 ASA</td>\n",
       "      <td>22</td>\n",
       "      <td>ios</td>\n",
       "      <td>male</td>\n",
       "      <td>GB</td>\n",
       "      <td>0</td>\n",
       "    </tr>\n",
       "    <tr>\n",
       "      <th>9980</th>\n",
       "      <td>9980</td>\n",
       "      <td>41 Youtube</td>\n",
       "      <td>28</td>\n",
       "      <td>android</td>\n",
       "      <td>male</td>\n",
       "      <td>MX</td>\n",
       "      <td>0</td>\n",
       "    </tr>\n",
       "    <tr>\n",
       "      <th>9981</th>\n",
       "      <td>9981</td>\n",
       "      <td>31 OUTBRAIN</td>\n",
       "      <td>29</td>\n",
       "      <td>android</td>\n",
       "      <td>male</td>\n",
       "      <td>US</td>\n",
       "      <td>0</td>\n",
       "    </tr>\n",
       "    <tr>\n",
       "      <th>9982</th>\n",
       "      <td>9982</td>\n",
       "      <td>22 Adwords (Search)</td>\n",
       "      <td>25</td>\n",
       "      <td>android</td>\n",
       "      <td>male</td>\n",
       "      <td>ES</td>\n",
       "      <td>0</td>\n",
       "    </tr>\n",
       "    <tr>\n",
       "      <th>9983</th>\n",
       "      <td>9983</td>\n",
       "      <td>42 Adcolony</td>\n",
       "      <td>28</td>\n",
       "      <td>android</td>\n",
       "      <td>female</td>\n",
       "      <td>US</td>\n",
       "      <td>0</td>\n",
       "    </tr>\n",
       "    <tr>\n",
       "      <th>9984</th>\n",
       "      <td>9984</td>\n",
       "      <td>00 Organic</td>\n",
       "      <td>21</td>\n",
       "      <td>android</td>\n",
       "      <td>female</td>\n",
       "      <td>ES</td>\n",
       "      <td>0</td>\n",
       "    </tr>\n",
       "    <tr>\n",
       "      <th>9985</th>\n",
       "      <td>9985</td>\n",
       "      <td>95 LAT</td>\n",
       "      <td>33</td>\n",
       "      <td>ios</td>\n",
       "      <td>female</td>\n",
       "      <td>US</td>\n",
       "      <td>0</td>\n",
       "    </tr>\n",
       "    <tr>\n",
       "      <th>9986</th>\n",
       "      <td>9986</td>\n",
       "      <td>12 PINTEREST</td>\n",
       "      <td>31</td>\n",
       "      <td>ios</td>\n",
       "      <td>female</td>\n",
       "      <td>US</td>\n",
       "      <td>0</td>\n",
       "    </tr>\n",
       "    <tr>\n",
       "      <th>9987</th>\n",
       "      <td>9987</td>\n",
       "      <td>22 Adwords (Search)</td>\n",
       "      <td>24</td>\n",
       "      <td>android</td>\n",
       "      <td>female</td>\n",
       "      <td>US</td>\n",
       "      <td>0</td>\n",
       "    </tr>\n",
       "    <tr>\n",
       "      <th>9988</th>\n",
       "      <td>9988</td>\n",
       "      <td>95 LAT</td>\n",
       "      <td>19</td>\n",
       "      <td>ios</td>\n",
       "      <td>female</td>\n",
       "      <td>US</td>\n",
       "      <td>0</td>\n",
       "    </tr>\n",
       "    <tr>\n",
       "      <th>9989</th>\n",
       "      <td>9989</td>\n",
       "      <td>11 FB</td>\n",
       "      <td>36</td>\n",
       "      <td>android</td>\n",
       "      <td>female</td>\n",
       "      <td>US</td>\n",
       "      <td>0</td>\n",
       "    </tr>\n",
       "    <tr>\n",
       "      <th>9990</th>\n",
       "      <td>9990</td>\n",
       "      <td>00 Organic</td>\n",
       "      <td>20</td>\n",
       "      <td>ios</td>\n",
       "      <td>female</td>\n",
       "      <td>US</td>\n",
       "      <td>0</td>\n",
       "    </tr>\n",
       "    <tr>\n",
       "      <th>9991</th>\n",
       "      <td>9991</td>\n",
       "      <td>00 Organic</td>\n",
       "      <td>15</td>\n",
       "      <td>android</td>\n",
       "      <td>female</td>\n",
       "      <td>US</td>\n",
       "      <td>0</td>\n",
       "    </tr>\n",
       "    <tr>\n",
       "      <th>9992</th>\n",
       "      <td>9992</td>\n",
       "      <td>69 Others</td>\n",
       "      <td>21</td>\n",
       "      <td>android</td>\n",
       "      <td>female</td>\n",
       "      <td>MX</td>\n",
       "      <td>0</td>\n",
       "    </tr>\n",
       "    <tr>\n",
       "      <th>9993</th>\n",
       "      <td>9993</td>\n",
       "      <td>00 Organic</td>\n",
       "      <td>16</td>\n",
       "      <td>ios</td>\n",
       "      <td>female</td>\n",
       "      <td>US</td>\n",
       "      <td>0</td>\n",
       "    </tr>\n",
       "    <tr>\n",
       "      <th>9994</th>\n",
       "      <td>9994</td>\n",
       "      <td>12 PINTEREST</td>\n",
       "      <td>20</td>\n",
       "      <td>ios</td>\n",
       "      <td>female</td>\n",
       "      <td>US</td>\n",
       "      <td>0</td>\n",
       "    </tr>\n",
       "    <tr>\n",
       "      <th>9995</th>\n",
       "      <td>9995</td>\n",
       "      <td>00 Organic</td>\n",
       "      <td>39</td>\n",
       "      <td>ios</td>\n",
       "      <td>female</td>\n",
       "      <td>ES</td>\n",
       "      <td>0</td>\n",
       "    </tr>\n",
       "    <tr>\n",
       "      <th>9996</th>\n",
       "      <td>9996</td>\n",
       "      <td>12 PINTEREST</td>\n",
       "      <td>36</td>\n",
       "      <td>android</td>\n",
       "      <td>female</td>\n",
       "      <td>US</td>\n",
       "      <td>0</td>\n",
       "    </tr>\n",
       "    <tr>\n",
       "      <th>9997</th>\n",
       "      <td>9997</td>\n",
       "      <td>00 Organic</td>\n",
       "      <td>19</td>\n",
       "      <td>android</td>\n",
       "      <td>male</td>\n",
       "      <td>MX</td>\n",
       "      <td>0</td>\n",
       "    </tr>\n",
       "    <tr>\n",
       "      <th>9998</th>\n",
       "      <td>9998</td>\n",
       "      <td>95 LAT</td>\n",
       "      <td>33</td>\n",
       "      <td>ios</td>\n",
       "      <td>female</td>\n",
       "      <td>US</td>\n",
       "      <td>0</td>\n",
       "    </tr>\n",
       "    <tr>\n",
       "      <th>9999</th>\n",
       "      <td>9999</td>\n",
       "      <td>95 LAT</td>\n",
       "      <td>35</td>\n",
       "      <td>ios</td>\n",
       "      <td>female</td>\n",
       "      <td>US</td>\n",
       "      <td>0</td>\n",
       "    </tr>\n",
       "  </tbody>\n",
       "</table>\n",
       "<p>10000 rows × 7 columns</p>\n",
       "</div>"
      ],
      "text/plain": [
       "      user_id              channel  age       os  gender country  customer\n",
       "0           0          42 Adcolony   32  android  female      US         0\n",
       "1           1         12 PINTEREST   27  android  female      US         0\n",
       "2           2           00 Organic   36      ios    male      GB         0\n",
       "3           3          42 Adcolony   29      ios  female      US         0\n",
       "4           4         12 PINTEREST   20      ios  female      CA         0\n",
       "5           5           00 Organic   47      ios  female      US         0\n",
       "6           6           00 Organic   27  android  female      CA         0\n",
       "7           7  22 Adwords (Search)   20  android  female      DE         0\n",
       "8           8           00 Organic   15      ios  female      US         0\n",
       "9           9         12 PINTEREST   35      ios  female      US         0\n",
       "10         10            69 Others   38      ios  female      US         0\n",
       "11         11           00 Organic   28      ios  female      US         0\n",
       "12         12                11 FB   46  android    male      CA         0\n",
       "13         13                11 FB   35      ios  female      FR         0\n",
       "14         14           00 Organic   26      ios  female      US         0\n",
       "15         15         12 PINTEREST   21      ios  female      US         0\n",
       "16         16  22 Adwords (Search)   35  android  female      MX         0\n",
       "17         17                11 FB   23  android    male      US         0\n",
       "18         18         12 PINTEREST   46  android    male      CA         0\n",
       "19         19               95 LAT   42      ios  female      US         0\n",
       "20         20  22 Adwords (Search)   22  android  female      US         0\n",
       "21         21         12 PINTEREST   58  android    male      AU         1\n",
       "22         22         12 PINTEREST   46  android  female      US         0\n",
       "23         23           41 Youtube   39      ios  female      US         0\n",
       "24         24           00 Organic   36      ios  female      US         0\n",
       "25         25               21 ASA   41      ios  female      US         0\n",
       "26         26           00 Organic   14      ios  female      US         0\n",
       "27         27           41 Youtube   22  android    male      ES         0\n",
       "28         28           41 Youtube   12      ios    male      US         0\n",
       "29         29  22 Adwords (Search)   23  android    male      US         0\n",
       "...       ...                  ...  ...      ...     ...     ...       ...\n",
       "9970     9970               21 ASA   32      ios  female      US         0\n",
       "9971     9971         12 PINTEREST   48  android  female      CA         0\n",
       "9972     9972           41 Youtube   34  android  female      US         0\n",
       "9973     9973           00 Organic   18      ios  female      US         0\n",
       "9974     9974  22 Adwords (Search)   26      ios    male      US         0\n",
       "9975     9975               95 LAT   54      ios    male      US         1\n",
       "9976     9976           00 Organic   57      ios  female      US         1\n",
       "9977     9977  22 Adwords (Search)   32  android    male      US         0\n",
       "9978     9978  22 Adwords (Search)   60  android  female      US         0\n",
       "9979     9979               21 ASA   22      ios    male      GB         0\n",
       "9980     9980           41 Youtube   28  android    male      MX         0\n",
       "9981     9981          31 OUTBRAIN   29  android    male      US         0\n",
       "9982     9982  22 Adwords (Search)   25  android    male      ES         0\n",
       "9983     9983          42 Adcolony   28  android  female      US         0\n",
       "9984     9984           00 Organic   21  android  female      ES         0\n",
       "9985     9985               95 LAT   33      ios  female      US         0\n",
       "9986     9986         12 PINTEREST   31      ios  female      US         0\n",
       "9987     9987  22 Adwords (Search)   24  android  female      US         0\n",
       "9988     9988               95 LAT   19      ios  female      US         0\n",
       "9989     9989                11 FB   36  android  female      US         0\n",
       "9990     9990           00 Organic   20      ios  female      US         0\n",
       "9991     9991           00 Organic   15  android  female      US         0\n",
       "9992     9992            69 Others   21  android  female      MX         0\n",
       "9993     9993           00 Organic   16      ios  female      US         0\n",
       "9994     9994         12 PINTEREST   20      ios  female      US         0\n",
       "9995     9995           00 Organic   39      ios  female      ES         0\n",
       "9996     9996         12 PINTEREST   36  android  female      US         0\n",
       "9997     9997           00 Organic   19  android    male      MX         0\n",
       "9998     9998               95 LAT   33      ios  female      US         0\n",
       "9999     9999               95 LAT   35      ios  female      US         0\n",
       "\n",
       "[10000 rows x 7 columns]"
      ]
     },
     "execution_count": 53,
     "metadata": {},
     "output_type": "execute_result"
    }
   ],
   "source": [
    "df_test_set.to_csv(charles_verleyen_predictions.csv)"
   ]
  },
  {
   "cell_type": "code",
   "execution_count": 48,
   "metadata": {},
   "outputs": [
    {
     "data": {
      "text/plain": [
       "10000"
      ]
     },
     "execution_count": 48,
     "metadata": {},
     "output_type": "execute_result"
    }
   ],
   "source": [
    "len(predict_y)"
   ]
  },
  {
   "cell_type": "code",
   "execution_count": null,
   "metadata": {
    "collapsed": true
   },
   "outputs": [],
   "source": []
  }
 ],
 "metadata": {
  "kernelspec": {
   "display_name": "Python 3",
   "language": "python",
   "name": "python3"
  },
  "language_info": {
   "codemirror_mode": {
    "name": "ipython",
    "version": 3
   },
   "file_extension": ".py",
   "mimetype": "text/x-python",
   "name": "python",
   "nbconvert_exporter": "python",
   "pygments_lexer": "ipython3",
   "version": "3.6.1"
  }
 },
 "nbformat": 4,
 "nbformat_minor": 2
}
