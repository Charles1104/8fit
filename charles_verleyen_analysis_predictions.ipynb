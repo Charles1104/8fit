{
 "cells": [
  {
   "cell_type": "markdown",
   "metadata": {},
   "source": [
    "##             <center>8FIT DATA SCIENCE ASSIGNMENT</center>                      "
   ]
  },
  {
   "cell_type": "markdown",
   "metadata": {},
   "source": [
    "**1\\. Import the different libraries to be used for the data exploration and prediction**"
   ]
  },
  {
   "cell_type": "code",
   "execution_count": 188,
   "metadata": {
    "collapsed": true
   },
   "outputs": [],
   "source": [
    "%matplotlib inline\n",
    "import matplotlib.pyplot as plt  # Data visualization\n",
    "import seaborn as sns # Data visualization\n",
    "import numpy as np   #fundamental package for scientific computing\n",
    "import pandas as pd  #fundamental package for data analysis\n",
    "from sklearn.ensemble import RandomForestClassifier # package for binary classification (decision tree)\n",
    "from sklearn.linear_model import LogisticRegression # package for binary classification (logistic regression)\n",
    "from sklearn import metrics # package for getting metrics out of the model\n",
    "from sklearn.metrics import confusion_matrix # package for getting metrics out of the model\n",
    "from sklearn.metrics import f1_score # package for getting metrics out of the model\n",
    "from sklearn.model_selection import train_test_split # package to split the data in a training and crossvalidation set\n",
    "from sklearn.model_selection import GridSearchCV # package to search and find the best hyperparameters on the model\n",
    "from sklearn.preprocessing import StandardScaler # package to scale (normalize) the features\n",
    "from sklearn.pipeline import Pipeline # package to create a pipeline for the machine learning model"
   ]
  },
  {
   "cell_type": "markdown",
   "metadata": {},
   "source": [
    "**2\\. Read the train_data csv file and assign it to a dataframe named \"df\"**"
   ]
  },
  {
   "cell_type": "code",
   "execution_count": 189,
   "metadata": {},
   "outputs": [],
   "source": [
    "df = pd.read_csv(\"data/train_data.csv.csv_fixed\")"
   ]
  },
  {
   "cell_type": "markdown",
   "metadata": {},
   "source": [
    "**3\\. Data exploration**"
   ]
  },
  {
   "cell_type": "code",
   "execution_count": 190,
   "metadata": {},
   "outputs": [
    {
     "data": {
      "text/html": [
       "<div>\n",
       "<style>\n",
       "    .dataframe thead tr:only-child th {\n",
       "        text-align: right;\n",
       "    }\n",
       "\n",
       "    .dataframe thead th {\n",
       "        text-align: left;\n",
       "    }\n",
       "\n",
       "    .dataframe tbody tr th {\n",
       "        vertical-align: top;\n",
       "    }\n",
       "</style>\n",
       "<table border=\"1\" class=\"dataframe\">\n",
       "  <thead>\n",
       "    <tr style=\"text-align: right;\">\n",
       "      <th></th>\n",
       "      <th>user_id</th>\n",
       "      <th>channel</th>\n",
       "      <th>age</th>\n",
       "      <th>os</th>\n",
       "      <th>gender</th>\n",
       "      <th>country</th>\n",
       "      <th>customer</th>\n",
       "    </tr>\n",
       "  </thead>\n",
       "  <tbody>\n",
       "    <tr>\n",
       "      <th>0</th>\n",
       "      <td>100000</td>\n",
       "      <td>00 Organic</td>\n",
       "      <td>20</td>\n",
       "      <td>ios</td>\n",
       "      <td>female</td>\n",
       "      <td>GB</td>\n",
       "      <td>0</td>\n",
       "    </tr>\n",
       "    <tr>\n",
       "      <th>1</th>\n",
       "      <td>100001</td>\n",
       "      <td>00 Organic</td>\n",
       "      <td>30</td>\n",
       "      <td>ios</td>\n",
       "      <td>female</td>\n",
       "      <td>US</td>\n",
       "      <td>1</td>\n",
       "    </tr>\n",
       "    <tr>\n",
       "      <th>2</th>\n",
       "      <td>100002</td>\n",
       "      <td>31 OUTBRAIN</td>\n",
       "      <td>35</td>\n",
       "      <td>ios</td>\n",
       "      <td>female</td>\n",
       "      <td>DE</td>\n",
       "      <td>0</td>\n",
       "    </tr>\n",
       "    <tr>\n",
       "      <th>3</th>\n",
       "      <td>100003</td>\n",
       "      <td>00 Organic</td>\n",
       "      <td>26</td>\n",
       "      <td>android</td>\n",
       "      <td>female</td>\n",
       "      <td>US</td>\n",
       "      <td>0</td>\n",
       "    </tr>\n",
       "    <tr>\n",
       "      <th>4</th>\n",
       "      <td>100004</td>\n",
       "      <td>32 Taboola</td>\n",
       "      <td>55</td>\n",
       "      <td>ios</td>\n",
       "      <td>female</td>\n",
       "      <td>US</td>\n",
       "      <td>1</td>\n",
       "    </tr>\n",
       "  </tbody>\n",
       "</table>\n",
       "</div>"
      ],
      "text/plain": [
       "   user_id      channel  age       os  gender country  customer\n",
       "0   100000   00 Organic   20      ios  female      GB         0\n",
       "1   100001   00 Organic   30      ios  female      US         1\n",
       "2   100002  31 OUTBRAIN   35      ios  female      DE         0\n",
       "3   100003   00 Organic   26  android  female      US         0\n",
       "4   100004   32 Taboola   55      ios  female      US         1"
      ]
     },
     "execution_count": 190,
     "metadata": {},
     "output_type": "execute_result"
    }
   ],
   "source": [
    "df.head() #quick look at the first five rows of the dataset"
   ]
  },
  {
   "cell_type": "code",
   "execution_count": 191,
   "metadata": {},
   "outputs": [
    {
     "data": {
      "text/plain": [
       "user_id     0\n",
       "channel     0\n",
       "age         0\n",
       "os          0\n",
       "gender      0\n",
       "country     0\n",
       "customer    0\n",
       "dtype: int64"
      ]
     },
     "execution_count": 191,
     "metadata": {},
     "output_type": "execute_result"
    }
   ],
   "source": [
    "df.isnull().sum() # clean dataset with no \"nan\" values in any columns"
   ]
  },
  {
   "cell_type": "code",
   "execution_count": 192,
   "metadata": {},
   "outputs": [
    {
     "name": "stdout",
     "output_type": "stream",
     "text": [
      "<class 'pandas.core.frame.DataFrame'>\n",
      "RangeIndex: 82908 entries, 0 to 82907\n",
      "Data columns (total 7 columns):\n",
      "user_id     82908 non-null int64\n",
      "channel     82908 non-null object\n",
      "age         82908 non-null int64\n",
      "os          82908 non-null object\n",
      "gender      82908 non-null object\n",
      "country     82908 non-null object\n",
      "customer    82908 non-null int64\n",
      "dtypes: int64(3), object(4)\n",
      "memory usage: 4.4+ MB\n"
     ]
    }
   ],
   "source": [
    "df.info() #high overview of the dataset with columns datatype"
   ]
  },
  {
   "cell_type": "markdown",
   "metadata": {},
   "source": [
    "*We can observe that the dataset contains data regarding 82908 users and that it has 7 columns. Three of them are numerical and four are objects (ie. string).*"
   ]
  },
  {
   "cell_type": "code",
   "execution_count": 193,
   "metadata": {},
   "outputs": [
    {
     "data": {
      "text/html": [
       "<div>\n",
       "<style>\n",
       "    .dataframe thead tr:only-child th {\n",
       "        text-align: right;\n",
       "    }\n",
       "\n",
       "    .dataframe thead th {\n",
       "        text-align: left;\n",
       "    }\n",
       "\n",
       "    .dataframe tbody tr th {\n",
       "        vertical-align: top;\n",
       "    }\n",
       "</style>\n",
       "<table border=\"1\" class=\"dataframe\">\n",
       "  <thead>\n",
       "    <tr style=\"text-align: right;\">\n",
       "      <th></th>\n",
       "      <th>user_id</th>\n",
       "      <th>age</th>\n",
       "      <th>customer</th>\n",
       "    </tr>\n",
       "  </thead>\n",
       "  <tbody>\n",
       "    <tr>\n",
       "      <th>count</th>\n",
       "      <td>82908.000000</td>\n",
       "      <td>82908.000000</td>\n",
       "      <td>82908.000000</td>\n",
       "    </tr>\n",
       "    <tr>\n",
       "      <th>mean</th>\n",
       "      <td>141453.500000</td>\n",
       "      <td>31.151734</td>\n",
       "      <td>0.297848</td>\n",
       "    </tr>\n",
       "    <tr>\n",
       "      <th>std</th>\n",
       "      <td>23933.622396</td>\n",
       "      <td>11.596902</td>\n",
       "      <td>0.457315</td>\n",
       "    </tr>\n",
       "    <tr>\n",
       "      <th>min</th>\n",
       "      <td>100000.000000</td>\n",
       "      <td>12.000000</td>\n",
       "      <td>0.000000</td>\n",
       "    </tr>\n",
       "    <tr>\n",
       "      <th>25%</th>\n",
       "      <td>120726.750000</td>\n",
       "      <td>22.000000</td>\n",
       "      <td>0.000000</td>\n",
       "    </tr>\n",
       "    <tr>\n",
       "      <th>50%</th>\n",
       "      <td>141453.500000</td>\n",
       "      <td>29.000000</td>\n",
       "      <td>0.000000</td>\n",
       "    </tr>\n",
       "    <tr>\n",
       "      <th>75%</th>\n",
       "      <td>162180.250000</td>\n",
       "      <td>38.000000</td>\n",
       "      <td>1.000000</td>\n",
       "    </tr>\n",
       "    <tr>\n",
       "      <th>max</th>\n",
       "      <td>182907.000000</td>\n",
       "      <td>96.000000</td>\n",
       "      <td>1.000000</td>\n",
       "    </tr>\n",
       "  </tbody>\n",
       "</table>\n",
       "</div>"
      ],
      "text/plain": [
       "             user_id           age      customer\n",
       "count   82908.000000  82908.000000  82908.000000\n",
       "mean   141453.500000     31.151734      0.297848\n",
       "std     23933.622396     11.596902      0.457315\n",
       "min    100000.000000     12.000000      0.000000\n",
       "25%    120726.750000     22.000000      0.000000\n",
       "50%    141453.500000     29.000000      0.000000\n",
       "75%    162180.250000     38.000000      1.000000\n",
       "max    182907.000000     96.000000      1.000000"
      ]
     },
     "execution_count": 193,
     "metadata": {},
     "output_type": "execute_result"
    }
   ],
   "source": [
    "df.describe() #handy statistics about numerical columns"
   ]
  },
  {
   "cell_type": "markdown",
   "metadata": {},
   "source": [
    "*The describe method gives us basic statistic on the numerical columns. We can observe that the average age of the users in our dataset is at 31 years and that the data contains 70% of non-customers and 30% of customers (mean customer is at 0.297848). The dataset is therefore slightly unbalanced on the target variable.*"
   ]
  },
  {
   "cell_type": "code",
   "execution_count": 194,
   "metadata": {},
   "outputs": [
    {
     "data": {
      "text/plain": [
       "0    58214\n",
       "1    24694\n",
       "Name: customer, dtype: int64"
      ]
     },
     "execution_count": 194,
     "metadata": {},
     "output_type": "execute_result"
    }
   ],
   "source": [
    "df['customer'].value_counts() # Quick check on the values in the customer column"
   ]
  },
  {
   "cell_type": "code",
   "execution_count": 195,
   "metadata": {},
   "outputs": [
    {
     "data": {
      "text/plain": [
       "00 Organic             21795\n",
       "12 PINTEREST           13564\n",
       "11 FB                   8857\n",
       "22 Adwords (Search)     7371\n",
       "95 LAT                  7043\n",
       "41 Youtube              6522\n",
       "31 OUTBRAIN             6237\n",
       "42 Adcolony             4806\n",
       "32 Taboola              2789\n",
       "21 ASA                  2108\n",
       "69 Others                876\n",
       "62 Social Media          550\n",
       "61 Web/Content           390\n",
       "Name: channel, dtype: int64"
      ]
     },
     "execution_count": 195,
     "metadata": {},
     "output_type": "execute_result"
    }
   ],
   "source": [
    "df[\"channel\"].value_counts() # Quick check on the values in the channel column"
   ]
  },
  {
   "cell_type": "code",
   "execution_count": 196,
   "metadata": {},
   "outputs": [
    {
     "data": {
      "text/plain": [
       "US    50855\n",
       "GB     9226\n",
       "MX     5755\n",
       "CA     4483\n",
       "ES     4172\n",
       "AU     3398\n",
       "DE     2849\n",
       "FR     2170\n",
       "Name: country, dtype: int64"
      ]
     },
     "execution_count": 196,
     "metadata": {},
     "output_type": "execute_result"
    }
   ],
   "source": [
    "df[\"country\"].value_counts() # Quick check on the values in the customer column"
   ]
  },
  {
   "cell_type": "code",
   "execution_count": 197,
   "metadata": {},
   "outputs": [
    {
     "data": {
      "text/plain": [
       "array([12, 13, 14, 15, 16, 17, 18, 19, 20, 21, 22, 23, 24, 25, 26, 27, 28,\n",
       "       29, 30, 31, 32, 33, 34, 35, 36, 37, 38, 39, 40, 41, 42, 43, 44, 45,\n",
       "       46, 47, 48, 49, 50, 51, 52, 53, 54, 55, 56, 57, 58, 59, 60, 61, 62,\n",
       "       63, 64, 65, 66, 67, 68, 69, 70, 71, 72, 73, 74, 75, 76, 77, 78, 79,\n",
       "       80, 81, 82, 83, 85, 86, 87, 94, 95, 96])"
      ]
     },
     "execution_count": 197,
     "metadata": {},
     "output_type": "execute_result"
    }
   ],
   "source": [
    "np.sort(df[\"age\"].unique()) # Quick check on the values in the age column"
   ]
  },
  {
   "cell_type": "code",
   "execution_count": 198,
   "metadata": {},
   "outputs": [
    {
     "data": {
      "text/plain": [
       "female    57031\n",
       "male      25877\n",
       "Name: gender, dtype: int64"
      ]
     },
     "execution_count": 198,
     "metadata": {},
     "output_type": "execute_result"
    }
   ],
   "source": [
    "df[\"gender\"].value_counts() # Quick check on the values in the gender column"
   ]
  },
  {
   "cell_type": "code",
   "execution_count": 199,
   "metadata": {},
   "outputs": [
    {
     "data": {
      "text/plain": [
       "ios        48662\n",
       "android    34246\n",
       "Name: os, dtype: int64"
      ]
     },
     "execution_count": 199,
     "metadata": {},
     "output_type": "execute_result"
    }
   ],
   "source": [
    "df[\"os\"].value_counts() # Quick check on the values in the os column"
   ]
  },
  {
   "cell_type": "markdown",
   "metadata": {},
   "source": [
    "**4\\. Data visualization**"
   ]
  },
  {
   "cell_type": "code",
   "execution_count": 200,
   "metadata": {},
   "outputs": [
    {
     "data": {
      "image/png": "[encoded data removed]",
      "text/plain": [
       "<matplotlib.figure.Figure at 0x7f44de2d0ba8>"
      ]
     },
     "metadata": {},
     "output_type": "display_data"
    }
   ],
   "source": [
    "# Set up a grid of plots\n",
    "fig = plt.figure(figsize=(20, 20)) \n",
    "fig_dims = (3, 3)\n",
    "\n",
    "# Plot channel counts\n",
    "plt.subplot2grid(fig_dims, (0, 0))\n",
    "df['channel'].value_counts().plot(kind='bar', title='Channel Counts')\n",
    "\n",
    "# Plot age counts as a hist\n",
    "plt.subplot2grid(fig_dims, (0, 1))\n",
    "df['age'].hist(rwidth = 0.8, zorder=5)\n",
    "plt.title('Age Histogram')\n",
    "\n",
    "# Plot os counts\n",
    "plt.subplot2grid(fig_dims, (1, 0))\n",
    "df['os'].value_counts().plot(kind='bar', title='Os Counts')\n",
    "plt.xticks(rotation=0)\n",
    "\n",
    "# Plot gender counts\n",
    "plt.subplot2grid(fig_dims, (1, 1))\n",
    "df['gender'].value_counts().plot(kind='bar', title='Gender Counts')\n",
    "plt.xticks(rotation=0)\n",
    "\n",
    "# Plot country counts\n",
    "plt.subplot2grid(fig_dims, (2, 0))\n",
    "df['country'].value_counts().plot(kind='bar', title='Country Counts')\n",
    "\n",
    "# Plot customer counts\n",
    "plt.subplot2grid(fig_dims, (2, 1))\n",
    "df['customer'].value_counts().plot(kind='bar', title='Customer Counts')\n",
    "plt.xticks(rotation=0)\n",
    "\n",
    "plt.tight_layout()"
   ]
  },
  {
   "cell_type": "markdown",
   "metadata": {},
   "source": [
    "*These six charts enable to get a good grasp about our dataset. Some insights:*\n",
    "- *Half of the users come from the following three channels: Organic, Pinterest and Facebook*\n",
    "- *The users are mainly between 20 and 40 years old.*\n",
    "- *There are more users on Android but the difference is small.*\n",
    "- *The females clearly outnumber the number of males (more than the double)*\n",
    "- *US is the country with by far the most users (more than half of the total users)*\n"
   ]
  },
  {
   "cell_type": "code",
   "execution_count": 201,
   "metadata": {},
   "outputs": [
    {
     "data": {
      "text/plain": [
       "<matplotlib.text.Text at 0x7f44d5972320>"
      ]
     },
     "execution_count": 201,
     "metadata": {},
     "output_type": "execute_result"
    },
    {
     "data": {
      "image/png": "[encoded data removed]",
      "text/plain": [
       "<matplotlib.figure.Figure at 0x7f44d56eeb70>"
      ]
     },
     "metadata": {},
     "output_type": "display_data"
    },
    {
     "data": {
      "image/png": "[encoded data removed]",
      "text/plain": [
       "<matplotlib.figure.Figure at 0x7f44d5f944e0>"
      ]
     },
     "metadata": {},
     "output_type": "display_data"
    },
    {
     "data": {
      "image/png": "[encoded data removed]",
      "text/plain": [
       "<matplotlib.figure.Figure at 0x7f44d540beb8>"
      ]
     },
     "metadata": {},
     "output_type": "display_data"
    },
    {
     "data": {
      "image/png": "[encoded data removed]",
      "text/plain": [
       "<matplotlib.figure.Figure at 0x7f44ddbfe7f0>"
      ]
     },
     "metadata": {},
     "output_type": "display_data"
    },
    {
     "data": {
      "image/png": "[encoded data removed]",
      "text/plain": [
       "<matplotlib.figure.Figure at 0x7f44d5a200b8>"
      ]
     },
     "metadata": {},
     "output_type": "display_data"
    }
   ],
   "source": [
    "# We now check for the conversion probability for each category per feature\n",
    "\n",
    "# channel conversion probability\n",
    "chan = pd.crosstab(df['channel'],df['customer'])\n",
    "chan = chan.div(chan.sum(1).astype(float), axis=0)\n",
    "chan.plot(kind='bar', stacked=True, title='Customer conversion per channel')\n",
    "plt.xlabel('Channels')\n",
    "plt.ylabel('Customer conversion rate')\n",
    "\n",
    "# age conversion probability\n",
    "bins = [0, 5, 10, 15, 20, 25, 30, 35, 40, 45, 50, 55, 60, 65, 70, 75, 80, 85, 90, 95, 100]\n",
    "group_names = ['0-5', '5-10','10-15', '15-20', '20-25', '25-30',\n",
    "               '30-35', '35-40','40-45', '45-50', '50-55', '55-60','60-65',\n",
    "               '65-70','70-75','75-80','80-85','85-90','90-95','95-100' ]\n",
    "df['age_groups'] = pd.cut(df['age'], bins, labels = group_names)\n",
    "age = pd.crosstab(df['age_groups'], df['customer'])\n",
    "age = age.div(age.sum(1).astype(float), axis=0)\n",
    "age.plot(kind='bar', stacked=True, title='Customer conversion per age')\n",
    "plt.xlabel('Age')\n",
    "plt.ylabel('Customer conversion rate')\n",
    "\n",
    "# os conversion probability\n",
    "os = pd.crosstab(df['os'],df['customer'])\n",
    "os = os.div(os.sum(1).astype(float), axis=0)\n",
    "os.plot(kind='bar', stacked=True, title='Customer conversion per channel')\n",
    "plt.xlabel('OS')\n",
    "plt.ylabel('Customer conversion rate')\n",
    "\n",
    "# gender conversion probability\n",
    "gender = pd.crosstab(df['gender'],df['customer'])\n",
    "gender = gender.div(gender.sum(1).astype(float), axis=0)\n",
    "gender.plot(kind='bar', stacked=True, title='Customer conversion per gender')\n",
    "plt.xlabel('Gender')\n",
    "plt.ylabel('Customer conversion rate')\n",
    "\n",
    "# country conversion probability\n",
    "country = pd.crosstab(df['country'],df['customer'])\n",
    "country = country.div(country.sum(1).astype(float), axis=0)\n",
    "country.plot(kind='bar', stacked=True, title='Customer conversion per country')\n",
    "plt.xlabel('Country')\n",
    "plt.ylabel('Customer conversion rate')"
   ]
  },
  {
   "cell_type": "markdown",
   "metadata": {},
   "source": [
    "*We can draw the following conclusion on the conversion of customer per feature:*\n",
    " - *the users using the channel \"OUTBRAIN\" and \"TABOOLA\" have higher probability to convert into customers (with 40%). Otherwise the probability is between 20% and 30%.*\n",
    " - *The older the user, the higher is the likelihood he will convert into a customer*\n",
    " - *OS and Gender don't matter in the conversion rate.*\n",
    " - *Country does not matter really. France has the highest conversion rate and Mexico the lowest but the difference is small.*"
   ]
  },
  {
   "cell_type": "markdown",
   "metadata": {},
   "source": [
    "**5\\. Data Cleaning**"
   ]
  },
  {
   "cell_type": "code",
   "execution_count": 202,
   "metadata": {
    "collapsed": true
   },
   "outputs": [],
   "source": [
    "def cleaning(df):\n",
    "    df = df.drop('user_id', axis = 1) #remove the user_id as this is irrelevant for the prediction\n",
    "    \n",
    "    for i in df.columns: #loop on every object column and convert it to dommuy variable\n",
    "        if df[i].dtype == \"O\":\n",
    "            df = pd.concat([df, pd.get_dummies(df[i], prefix = i)], axis=1)\n",
    "            del df[i] #delete the original object column\n",
    "    \n",
    "    if 'age_groups' in df.columns:\n",
    "        del df[\"age_groups\"]\n",
    "    \n",
    "    if 'customer' in df.columns: # as the cleaning will be performed also on the test and it does not contain the customer column\n",
    "        df_y = df[\"customer\"]\n",
    "        df_x = df.drop([\"customer\"], axis = 1)\n",
    "        return df_x, df_y\n",
    "    else:\n",
    "        return df"
   ]
  },
  {
   "cell_type": "markdown",
   "metadata": {},
   "source": [
    "**6\\. Machine Learning (Prediction)**"
   ]
  },
  {
   "cell_type": "code",
   "execution_count": 203,
   "metadata": {},
   "outputs": [],
   "source": [
    "# #return a two dataframes that will be used for fitting a machine learning model (df_x and df_y)\n",
    "df_x, df_y = cleaning(df)"
   ]
  },
  {
   "cell_type": "code",
   "execution_count": 204,
   "metadata": {},
   "outputs": [
    {
     "name": "stdout",
     "output_type": "stream",
     "text": [
      "<class 'pandas.core.frame.DataFrame'>\n",
      "RangeIndex: 82908 entries, 0 to 82907\n",
      "Data columns (total 26 columns):\n",
      "age                            82908 non-null int64\n",
      "channel_00 Organic             82908 non-null uint8\n",
      "channel_11 FB                  82908 non-null uint8\n",
      "channel_12 PINTEREST           82908 non-null uint8\n",
      "channel_21 ASA                 82908 non-null uint8\n",
      "channel_22 Adwords (Search)    82908 non-null uint8\n",
      "channel_31 OUTBRAIN            82908 non-null uint8\n",
      "channel_32 Taboola             82908 non-null uint8\n",
      "channel_41 Youtube             82908 non-null uint8\n",
      "channel_42 Adcolony            82908 non-null uint8\n",
      "channel_61 Web/Content         82908 non-null uint8\n",
      "channel_62 Social Media        82908 non-null uint8\n",
      "channel_69 Others              82908 non-null uint8\n",
      "channel_95 LAT                 82908 non-null uint8\n",
      "os_android                     82908 non-null uint8\n",
      "os_ios                         82908 non-null uint8\n",
      "gender_female                  82908 non-null uint8\n",
      "gender_male                    82908 non-null uint8\n",
      "country_AU                     82908 non-null uint8\n",
      "country_CA                     82908 non-null uint8\n",
      "country_DE                     82908 non-null uint8\n",
      "country_ES                     82908 non-null uint8\n",
      "country_FR                     82908 non-null uint8\n",
      "country_GB                     82908 non-null uint8\n",
      "country_MX                     82908 non-null uint8\n",
      "country_US                     82908 non-null uint8\n",
      "dtypes: int64(1), uint8(25)\n",
      "memory usage: 2.6 MB\n"
     ]
    }
   ],
   "source": [
    "df_x.info() #sanity check to see that there are no more columns of type \"Objects\""
   ]
  },
  {
   "cell_type": "code",
   "execution_count": 205,
   "metadata": {},
   "outputs": [
    {
     "name": "stdout",
     "output_type": "stream",
     "text": [
      "size of original df:  82908\n",
      "size of training df:  66326\n",
      "size of cross-validation df:  16582\n"
     ]
    }
   ],
   "source": [
    "# Split the dataset in a train set with 80% of the data and a cross-validation set with 20% of the data\n",
    "train_x, test_x, train_y, test_y = train_test_split(df_x, df_y, test_size=0.2, random_state=0)\n",
    "print (\"size of original df: \",df_x.shape[0])\n",
    "print (\"size of training df: \",train_x.shape[0])\n",
    "print (\"size of cross-validation df: \",cv_x.shape[0])"
   ]
  },
  {
   "cell_type": "code",
   "execution_count": 206,
   "metadata": {},
   "outputs": [
    {
     "name": "stdout",
     "output_type": "stream",
     "text": [
      "Grid best parameter (max. accuracy):  {'logisticregression__C': 1, 'logisticregression__max_iter': 100}\n",
      "Grid best score (accuracy):  0.70705304104\n",
      "Test score (accuracy):  0.70431793511\n"
     ]
    }
   ],
   "source": [
    "# Logistic Regression model\n",
    "\n",
    "estimators = [\n",
    "            ('scale_predictors', StandardScaler()),\n",
    "            ('logisticregression', LogisticRegression())\n",
    "            ]\n",
    "\n",
    "clf = Pipeline(estimators)\n",
    "\n",
    "grid_values = dict(logisticregression__C = [0.03, 0.1, 0.3, 1, 3, 10], # Inverse of the regularization factor.\n",
    "               logisticregression__max_iter= [100, 500, 1000],\n",
    "                  )\n",
    "              \n",
    "\n",
    "# default metric to optimize over grid parameters: accuracy\n",
    "grid_clf_acc = GridSearchCV(clf, param_grid = grid_values, scoring = 'accuracy')\n",
    "grid_clf_acc.fit(train_x, train_y)\n",
    "\n",
    "y_pred = grid_clf_acc.predict(test_x) # array with 1 and 0 for the prediction on test_x. \n",
    "\n",
    "print('Grid best parameter (max. accuracy): ', grid_clf_acc.best_params_)\n",
    "print('Grid best score (accuracy): ', grid_clf_acc.best_score_)\n",
    "print('Test score (accuracy): ', (y_pred == test_y).mean())"
   ]
  },
  {
   "cell_type": "markdown",
   "metadata": {},
   "source": [
    "*We observe an accuracy score of 70.7 % on the grid search and a score of 70.4% on the test set. The small difference is in favor of good generalization of the model on new data. This is not a great result and more feature engineering should be performed to improve the results.*"
   ]
  },
  {
   "cell_type": "code",
   "execution_count": 207,
   "metadata": {
    "collapsed": true
   },
   "outputs": [],
   "source": [
    "#Function to draw the accuracy of all the combinations of the hyperparameters\n",
    "def performance(results, param1, param2):\n",
    "    param1_vals = list(results.cv_results_['param_' + str(param1)])\n",
    "    param2_vals = list(results.cv_results_['param_' + str(param2)])\n",
    "    means = [x for x in results.cv_results_['mean_test_score']]\n",
    "    df = pd.DataFrame(list(zip(param1_vals, param2_vals, means)), columns = [param1, param2, 'means'])\n",
    "    df.fillna('None', inplace=True)\n",
    "    return pd.pivot_table(df, values = 'means' , index = param1, columns = param2)"
   ]
  },
  {
   "cell_type": "code",
   "execution_count": 208,
   "metadata": {},
   "outputs": [
    {
     "name": "stdout",
     "output_type": "stream",
     "text": [
      "logisticregression__max_iter      100       500       1000\n",
      "logisticregression__C                                     \n",
      "0.03                          0.707008  0.707008  0.707008\n",
      "0.10                          0.707038  0.707038  0.707038\n",
      "0.30                          0.707038  0.707038  0.707038\n",
      "1.00                          0.707053  0.707053  0.707053\n",
      "3.00                          0.707053  0.707053  0.707053\n",
      "10.00                         0.707053  0.707053  0.707053\n"
     ]
    }
   ],
   "source": [
    "a = list(grid_clf_acc.param_grid) # get the list of hyper-parameters we are searching (C and max_iter)\n",
    "train_results = performance(grid_clf_acc, a[0],  a[1]) # apply the performance function on our model\n",
    "print(train_results)"
   ]
  },
  {
   "cell_type": "markdown",
   "metadata": {},
   "source": [
    "*Results are almost identical for any combinations (extremely small difference) and best result is achieved with C of 1 and higher. Numbers of iteration do not change the results.*"
   ]
  },
  {
   "cell_type": "code",
   "execution_count": 209,
   "metadata": {},
   "outputs": [
    {
     "data": {
      "text/html": [
       "<div>\n",
       "<style>\n",
       "    .dataframe thead tr:only-child th {\n",
       "        text-align: right;\n",
       "    }\n",
       "\n",
       "    .dataframe thead th {\n",
       "        text-align: left;\n",
       "    }\n",
       "\n",
       "    .dataframe tbody tr th {\n",
       "        vertical-align: top;\n",
       "    }\n",
       "</style>\n",
       "<table border=\"1\" class=\"dataframe\">\n",
       "  <thead>\n",
       "    <tr style=\"text-align: right;\">\n",
       "      <th>predicted</th>\n",
       "      <th>0</th>\n",
       "      <th>1</th>\n",
       "    </tr>\n",
       "    <tr>\n",
       "      <th>Real</th>\n",
       "      <th></th>\n",
       "      <th></th>\n",
       "    </tr>\n",
       "  </thead>\n",
       "  <tbody>\n",
       "    <tr>\n",
       "      <th>0</th>\n",
       "      <td>11226</td>\n",
       "      <td>373</td>\n",
       "    </tr>\n",
       "    <tr>\n",
       "      <th>1</th>\n",
       "      <td>4530</td>\n",
       "      <td>453</td>\n",
       "    </tr>\n",
       "  </tbody>\n",
       "</table>\n",
       "</div>"
      ],
      "text/plain": [
       "predicted      0    1\n",
       "Real                 \n",
       "0          11226  373\n",
       "1           4530  453"
      ]
     },
     "execution_count": 209,
     "metadata": {},
     "output_type": "execute_result"
    }
   ],
   "source": [
    "#Confusion matrix to check the F1 score\n",
    "cm = pd.DataFrame(confusion_matrix(test_y, y_pred))\n",
    "cm.index.name='Real'\n",
    "cm.columns.name='predicted'\n",
    "cm"
   ]
  },
  {
   "cell_type": "code",
   "execution_count": 210,
   "metadata": {},
   "outputs": [
    {
     "data": {
      "text/plain": [
       "0.15596488207953174"
      ]
     },
     "execution_count": 210,
     "metadata": {},
     "output_type": "execute_result"
    }
   ],
   "source": [
    "# Let's compute the F-score on the test set\n",
    "f1_score(test_y, y_pred)"
   ]
  },
  {
   "cell_type": "code",
   "execution_count": 213,
   "metadata": {},
   "outputs": [
    {
     "name": "stdout",
     "output_type": "stream",
     "text": [
      "F1:  0.0\n",
      "Accuracy:  0.699433120251\n"
     ]
    }
   ],
   "source": [
    "# Let's compute the F-score in the case where we would predict 0 for each customer\n",
    "y_pred2 = np.zeros(16582) #initiate an array with only 0 values\n",
    "y_pred2[4] = 1 # need to put one value to 1 for non-null division\n",
    "print(\"F1: \", f1_score(test_y, y_pred2))\n",
    "print(\"Accuracy: \", (y_pred2 == test_y).mean())"
   ]
  },
  {
   "cell_type": "markdown",
   "metadata": {},
   "source": [
    "*As expected, predictions with only 0 predicted have a F-score of 0 (compared to 0.15 for our model) while both would have around the same accuracy (70%).*"
   ]
  },
  {
   "cell_type": "code",
   "execution_count": 215,
   "metadata": {},
   "outputs": [
    {
     "name": "stdout",
     "output_type": "stream",
     "text": [
      "Grid best parameter (max. accuracy):  {'randomforests__max_depth': None, 'randomforests__n_estimators': 100}\n",
      "Grid best score (accuracy):  0.680019901698\n",
      "Test score (accuracy):  0.70431793511\n"
     ]
    }
   ],
   "source": [
    "#Random Forest\n",
    "\n",
    "estimators = [\n",
    "            ('scale_predictors', StandardScaler()),\n",
    "            ('randomforests', RandomForestClassifier())\n",
    "            ]\n",
    "\n",
    "clf = Pipeline(estimators)\n",
    "\n",
    "grid_values = dict(randomforests__max_depth=[None], \n",
    "                   randomforests__n_estimators=[10, 100])\n",
    "              \n",
    "# default metric to optimize over grid parameters: accuracy\n",
    "grid_clf_rf_acc = GridSearchCV(clf, param_grid = grid_values, scoring = 'accuracy')\n",
    "grid_clf_rf_acc.fit(train_x, train_y)\n",
    "\n",
    "y_pred_rf = grid_clf_acc.predict(test_x) # array with 1 and 0 for the prediction on test_x. \n",
    "\n",
    "print('Grid best parameter (max. accuracy): ', grid_clf_rf_acc.best_params_)\n",
    "print('Grid best score (accuracy): ', grid_clf_rf_acc.best_score_)\n",
    "print('Test score (accuracy): ', (y_pred_rf == test_y).mean())"
   ]
  },
  {
   "cell_type": "markdown",
   "metadata": {},
   "source": [
    "*Random forest result is at 68% on the grid search. This is worse than the Logistic Regression but on new data, Random Forest leads to the same result. As the Logistic Regression is easier to interpret, this model has been chosen for the final predictions.*"
   ]
  },
  {
   "cell_type": "markdown",
   "metadata": {},
   "source": [
    "**7\\. Prediction on the final test set**"
   ]
  },
  {
   "cell_type": "code",
   "execution_count": 217,
   "metadata": {},
   "outputs": [
    {
     "data": {
      "text/html": [
       "<div>\n",
       "<style>\n",
       "    .dataframe thead tr:only-child th {\n",
       "        text-align: right;\n",
       "    }\n",
       "\n",
       "    .dataframe thead th {\n",
       "        text-align: left;\n",
       "    }\n",
       "\n",
       "    .dataframe tbody tr th {\n",
       "        vertical-align: top;\n",
       "    }\n",
       "</style>\n",
       "<table border=\"1\" class=\"dataframe\">\n",
       "  <thead>\n",
       "    <tr style=\"text-align: right;\">\n",
       "      <th></th>\n",
       "      <th>user_id</th>\n",
       "      <th>channel</th>\n",
       "      <th>age</th>\n",
       "      <th>os</th>\n",
       "      <th>gender</th>\n",
       "      <th>country</th>\n",
       "    </tr>\n",
       "  </thead>\n",
       "  <tbody>\n",
       "    <tr>\n",
       "      <th>0</th>\n",
       "      <td>0</td>\n",
       "      <td>42 Adcolony</td>\n",
       "      <td>32</td>\n",
       "      <td>android</td>\n",
       "      <td>female</td>\n",
       "      <td>US</td>\n",
       "    </tr>\n",
       "    <tr>\n",
       "      <th>1</th>\n",
       "      <td>1</td>\n",
       "      <td>12 PINTEREST</td>\n",
       "      <td>27</td>\n",
       "      <td>android</td>\n",
       "      <td>female</td>\n",
       "      <td>US</td>\n",
       "    </tr>\n",
       "    <tr>\n",
       "      <th>2</th>\n",
       "      <td>2</td>\n",
       "      <td>00 Organic</td>\n",
       "      <td>36</td>\n",
       "      <td>ios</td>\n",
       "      <td>male</td>\n",
       "      <td>GB</td>\n",
       "    </tr>\n",
       "    <tr>\n",
       "      <th>3</th>\n",
       "      <td>3</td>\n",
       "      <td>42 Adcolony</td>\n",
       "      <td>29</td>\n",
       "      <td>ios</td>\n",
       "      <td>female</td>\n",
       "      <td>US</td>\n",
       "    </tr>\n",
       "    <tr>\n",
       "      <th>4</th>\n",
       "      <td>4</td>\n",
       "      <td>12 PINTEREST</td>\n",
       "      <td>20</td>\n",
       "      <td>ios</td>\n",
       "      <td>female</td>\n",
       "      <td>CA</td>\n",
       "    </tr>\n",
       "  </tbody>\n",
       "</table>\n",
       "</div>"
      ],
      "text/plain": [
       "   user_id       channel  age       os  gender country\n",
       "0        0   42 Adcolony   32  android  female      US\n",
       "1        1  12 PINTEREST   27  android  female      US\n",
       "2        2    00 Organic   36      ios    male      GB\n",
       "3        3   42 Adcolony   29      ios  female      US\n",
       "4        4  12 PINTEREST   20      ios  female      CA"
      ]
     },
     "execution_count": 217,
     "metadata": {},
     "output_type": "execute_result"
    }
   ],
   "source": [
    "#Load the test_data.csv file\n",
    "df_test_set = pd.read_csv(\"data/test_data.csv.csv_fixed\")\n",
    "df_test_set.head()"
   ]
  },
  {
   "cell_type": "code",
   "execution_count": 218,
   "metadata": {},
   "outputs": [],
   "source": [
    "#Apply the cleaning functon so that our model can be used on it\n",
    "df_test_final_x = cleaning(df_test_set)"
   ]
  },
  {
   "cell_type": "code",
   "execution_count": 219,
   "metadata": {},
   "outputs": [],
   "source": [
    "#Make the predictions on the Y\n",
    "predict_y = grid_clf_acc.predict(df_test_final_x)"
   ]
  },
  {
   "cell_type": "code",
   "execution_count": 187,
   "metadata": {},
   "outputs": [],
   "source": [
    "#Create a new column on the original test_data.csv file\n",
    "df_test_set[\"customer\"] = predict_y"
   ]
  },
  {
   "cell_type": "code",
   "execution_count": 175,
   "metadata": {},
   "outputs": [],
   "source": [
    "#Save the file\n",
    "df_test_set.to_csv(\"charles_verleyen_predictions.csv\")"
   ]
  },
  {
   "cell_type": "code",
   "execution_count": 176,
   "metadata": {},
   "outputs": [
    {
     "data": {
      "text/html": [
       "<div>\n",
       "<style>\n",
       "    .dataframe thead tr:only-child th {\n",
       "        text-align: right;\n",
       "    }\n",
       "\n",
       "    .dataframe thead th {\n",
       "        text-align: left;\n",
       "    }\n",
       "\n",
       "    .dataframe tbody tr th {\n",
       "        vertical-align: top;\n",
       "    }\n",
       "</style>\n",
       "<table border=\"1\" class=\"dataframe\">\n",
       "  <thead>\n",
       "    <tr style=\"text-align: right;\">\n",
       "      <th></th>\n",
       "      <th>Unnamed: 0</th>\n",
       "      <th>user_id</th>\n",
       "      <th>channel</th>\n",
       "      <th>age</th>\n",
       "      <th>os</th>\n",
       "      <th>gender</th>\n",
       "      <th>country</th>\n",
       "      <th>customer</th>\n",
       "    </tr>\n",
       "  </thead>\n",
       "  <tbody>\n",
       "    <tr>\n",
       "      <th>0</th>\n",
       "      <td>0</td>\n",
       "      <td>0</td>\n",
       "      <td>42 Adcolony</td>\n",
       "      <td>32</td>\n",
       "      <td>android</td>\n",
       "      <td>female</td>\n",
       "      <td>US</td>\n",
       "      <td>0</td>\n",
       "    </tr>\n",
       "    <tr>\n",
       "      <th>1</th>\n",
       "      <td>1</td>\n",
       "      <td>1</td>\n",
       "      <td>12 PINTEREST</td>\n",
       "      <td>27</td>\n",
       "      <td>android</td>\n",
       "      <td>female</td>\n",
       "      <td>US</td>\n",
       "      <td>0</td>\n",
       "    </tr>\n",
       "    <tr>\n",
       "      <th>2</th>\n",
       "      <td>2</td>\n",
       "      <td>2</td>\n",
       "      <td>00 Organic</td>\n",
       "      <td>36</td>\n",
       "      <td>ios</td>\n",
       "      <td>male</td>\n",
       "      <td>GB</td>\n",
       "      <td>0</td>\n",
       "    </tr>\n",
       "    <tr>\n",
       "      <th>3</th>\n",
       "      <td>3</td>\n",
       "      <td>3</td>\n",
       "      <td>42 Adcolony</td>\n",
       "      <td>29</td>\n",
       "      <td>ios</td>\n",
       "      <td>female</td>\n",
       "      <td>US</td>\n",
       "      <td>0</td>\n",
       "    </tr>\n",
       "    <tr>\n",
       "      <th>4</th>\n",
       "      <td>4</td>\n",
       "      <td>4</td>\n",
       "      <td>12 PINTEREST</td>\n",
       "      <td>20</td>\n",
       "      <td>ios</td>\n",
       "      <td>female</td>\n",
       "      <td>CA</td>\n",
       "      <td>0</td>\n",
       "    </tr>\n",
       "  </tbody>\n",
       "</table>\n",
       "</div>"
      ],
      "text/plain": [
       "   Unnamed: 0  user_id       channel  age       os  gender country  customer\n",
       "0           0        0   42 Adcolony   32  android  female      US         0\n",
       "1           1        1  12 PINTEREST   27  android  female      US         0\n",
       "2           2        2    00 Organic   36      ios    male      GB         0\n",
       "3           3        3   42 Adcolony   29      ios  female      US         0\n",
       "4           4        4  12 PINTEREST   20      ios  female      CA         0"
      ]
     },
     "execution_count": 176,
     "metadata": {},
     "output_type": "execute_result"
    }
   ],
   "source": [
    "#sanity check on the saved file\n",
    "pd.read_csv(\"charles_verleyen_predictions.csv\").head(5)"
   ]
  },
  {
   "cell_type": "code",
   "execution_count": null,
   "metadata": {
    "collapsed": true
   },
   "outputs": [],
   "source": []
  }
 ],
 "metadata": {
  "kernelspec": {
   "display_name": "Python 3",
   "language": "python",
   "name": "python3"
  },
  "language_info": {
   "codemirror_mode": {
    "name": "ipython",
    "version": 3
   },
   "file_extension": ".py",
   "mimetype": "text/x-python",
   "name": "python",
   "nbconvert_exporter": "python",
   "pygments_lexer": "ipython3",
   "version": "3.6.1"
  }
 },
 "nbformat": 4,
 "nbformat_minor": 2
}
