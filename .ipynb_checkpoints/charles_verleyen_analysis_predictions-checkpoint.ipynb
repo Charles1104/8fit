{
 "cells": [
  {
   "cell_type": "markdown",
   "metadata": {},
   "source": [
    "##             <center>8FIT DATA SCIENCE ASSIGNMENT</center>                      "
   ]
  },
  {
   "cell_type": "markdown",
   "metadata": {},
   "source": [
    "**1\\. Import the different libraries to be used for the data exploration and prediction**"
   ]
  },
  {
   "cell_type": "code",
   "execution_count": 5,
   "metadata": {},
   "outputs": [],
   "source": [
    "%matplotlib inline\n",
    "import matplotlib.pyplot as plt  # Data visualization\n",
    "import seaborn as sns # Data visualization\n",
    "import numpy as np   #fundamental package for scientific computing\n",
    "import pandas as pd  #fundamental package for data analysis\n",
    "from sklearn.ensemble import RandomForestClassifier # package for binary classification (decision tree)\n",
    "from sklearn.linear_model import LogisticRegression # package for binary classification (logistic regression)\n",
    "from sklearn import metrics # package for getting metrics out of the model\n",
    "from sklearn.model_selection import train_test_split # package to split the data in a training and crossvalidation set\n",
    "from sklearn.model_selection import GridSearchCV # package to search and find the best hyperparameters on the model\n",
    "from sklearn.preprocessing import StandardScaler # package to scale (normalize) the features\n",
    "from sklearn.pipeline import Pipeline # package to create a pipeline for the machine learning model"
   ]
  },
  {
   "cell_type": "markdown",
   "metadata": {},
   "source": [
    "**2\\. Read the train_data and assign it to a dataframe named \"df\"**"
   ]
  },
  {
   "cell_type": "code",
   "execution_count": 7,
   "metadata": {},
   "outputs": [],
   "source": [
    "df = pd.read_csv(\"train_data.csv.csv_fixed\")"
   ]
  },
  {
   "cell_type": "markdown",
   "metadata": {},
   "source": [
    "**3\\. Data exploration**"
   ]
  },
  {
   "cell_type": "code",
   "execution_count": 8,
   "metadata": {},
   "outputs": [
    {
     "data": {
      "text/html": [
       "<div>\n",
       "<style>\n",
       "    .dataframe thead tr:only-child th {\n",
       "        text-align: right;\n",
       "    }\n",
       "\n",
       "    .dataframe thead th {\n",
       "        text-align: left;\n",
       "    }\n",
       "\n",
       "    .dataframe tbody tr th {\n",
       "        vertical-align: top;\n",
       "    }\n",
       "</style>\n",
       "<table border=\"1\" class=\"dataframe\">\n",
       "  <thead>\n",
       "    <tr style=\"text-align: right;\">\n",
       "      <th></th>\n",
       "      <th>user_id</th>\n",
       "      <th>channel</th>\n",
       "      <th>age</th>\n",
       "      <th>os</th>\n",
       "      <th>gender</th>\n",
       "      <th>country</th>\n",
       "      <th>customer</th>\n",
       "    </tr>\n",
       "  </thead>\n",
       "  <tbody>\n",
       "    <tr>\n",
       "      <th>0</th>\n",
       "      <td>100000</td>\n",
       "      <td>00 Organic</td>\n",
       "      <td>20</td>\n",
       "      <td>ios</td>\n",
       "      <td>female</td>\n",
       "      <td>GB</td>\n",
       "      <td>0</td>\n",
       "    </tr>\n",
       "    <tr>\n",
       "      <th>1</th>\n",
       "      <td>100001</td>\n",
       "      <td>00 Organic</td>\n",
       "      <td>30</td>\n",
       "      <td>ios</td>\n",
       "      <td>female</td>\n",
       "      <td>US</td>\n",
       "      <td>1</td>\n",
       "    </tr>\n",
       "    <tr>\n",
       "      <th>2</th>\n",
       "      <td>100002</td>\n",
       "      <td>31 OUTBRAIN</td>\n",
       "      <td>35</td>\n",
       "      <td>ios</td>\n",
       "      <td>female</td>\n",
       "      <td>DE</td>\n",
       "      <td>0</td>\n",
       "    </tr>\n",
       "    <tr>\n",
       "      <th>3</th>\n",
       "      <td>100003</td>\n",
       "      <td>00 Organic</td>\n",
       "      <td>26</td>\n",
       "      <td>android</td>\n",
       "      <td>female</td>\n",
       "      <td>US</td>\n",
       "      <td>0</td>\n",
       "    </tr>\n",
       "    <tr>\n",
       "      <th>4</th>\n",
       "      <td>100004</td>\n",
       "      <td>32 Taboola</td>\n",
       "      <td>55</td>\n",
       "      <td>ios</td>\n",
       "      <td>female</td>\n",
       "      <td>US</td>\n",
       "      <td>1</td>\n",
       "    </tr>\n",
       "  </tbody>\n",
       "</table>\n",
       "</div>"
      ],
      "text/plain": [
       "   user_id      channel  age       os  gender country  customer\n",
       "0   100000   00 Organic   20      ios  female      GB         0\n",
       "1   100001   00 Organic   30      ios  female      US         1\n",
       "2   100002  31 OUTBRAIN   35      ios  female      DE         0\n",
       "3   100003   00 Organic   26  android  female      US         0\n",
       "4   100004   32 Taboola   55      ios  female      US         1"
      ]
     },
     "execution_count": 8,
     "metadata": {},
     "output_type": "execute_result"
    }
   ],
   "source": [
    "df.head() #quick look at the first five rows of the dataset"
   ]
  },
  {
   "cell_type": "code",
   "execution_count": 50,
   "metadata": {},
   "outputs": [
    {
     "data": {
      "text/plain": [
       "user_id     0\n",
       "channel     0\n",
       "age         0\n",
       "os          0\n",
       "gender      0\n",
       "country     0\n",
       "customer    0\n",
       "dtype: int64"
      ]
     },
     "execution_count": 50,
     "metadata": {},
     "output_type": "execute_result"
    }
   ],
   "source": [
    "df.isnull().sum() # clean dataset with no \"nan\" values in any columns"
   ]
  },
  {
   "cell_type": "code",
   "execution_count": 31,
   "metadata": {},
   "outputs": [
    {
     "name": "stdout",
     "output_type": "stream",
     "text": [
      "<class 'pandas.core.frame.DataFrame'>\n",
      "RangeIndex: 82908 entries, 0 to 82907\n",
      "Data columns (total 7 columns):\n",
      "user_id     82908 non-null int64\n",
      "channel     82908 non-null object\n",
      "age         82908 non-null int64\n",
      "os          82908 non-null object\n",
      "gender      82908 non-null object\n",
      "country     82908 non-null object\n",
      "customer    82908 non-null int64\n",
      "dtypes: int64(3), object(4)\n",
      "memory usage: 4.4+ MB\n"
     ]
    }
   ],
   "source": [
    "df.info() #high overview of the dataset with columns datatype"
   ]
  },
  {
   "cell_type": "markdown",
   "metadata": {},
   "source": [
    "*We can observe that the dataset contains data regarding 82908 users and that it has 7 columns. Three of them are numerical and four are objects (ie. string).*"
   ]
  },
  {
   "cell_type": "code",
   "execution_count": 32,
   "metadata": {},
   "outputs": [
    {
     "data": {
      "text/html": [
       "<div>\n",
       "<style>\n",
       "    .dataframe thead tr:only-child th {\n",
       "        text-align: right;\n",
       "    }\n",
       "\n",
       "    .dataframe thead th {\n",
       "        text-align: left;\n",
       "    }\n",
       "\n",
       "    .dataframe tbody tr th {\n",
       "        vertical-align: top;\n",
       "    }\n",
       "</style>\n",
       "<table border=\"1\" class=\"dataframe\">\n",
       "  <thead>\n",
       "    <tr style=\"text-align: right;\">\n",
       "      <th></th>\n",
       "      <th>user_id</th>\n",
       "      <th>age</th>\n",
       "      <th>customer</th>\n",
       "    </tr>\n",
       "  </thead>\n",
       "  <tbody>\n",
       "    <tr>\n",
       "      <th>count</th>\n",
       "      <td>82908.000000</td>\n",
       "      <td>82908.000000</td>\n",
       "      <td>82908.000000</td>\n",
       "    </tr>\n",
       "    <tr>\n",
       "      <th>mean</th>\n",
       "      <td>141453.500000</td>\n",
       "      <td>31.151734</td>\n",
       "      <td>0.297848</td>\n",
       "    </tr>\n",
       "    <tr>\n",
       "      <th>std</th>\n",
       "      <td>23933.622396</td>\n",
       "      <td>11.596902</td>\n",
       "      <td>0.457315</td>\n",
       "    </tr>\n",
       "    <tr>\n",
       "      <th>min</th>\n",
       "      <td>100000.000000</td>\n",
       "      <td>12.000000</td>\n",
       "      <td>0.000000</td>\n",
       "    </tr>\n",
       "    <tr>\n",
       "      <th>25%</th>\n",
       "      <td>120726.750000</td>\n",
       "      <td>22.000000</td>\n",
       "      <td>0.000000</td>\n",
       "    </tr>\n",
       "    <tr>\n",
       "      <th>50%</th>\n",
       "      <td>141453.500000</td>\n",
       "      <td>29.000000</td>\n",
       "      <td>0.000000</td>\n",
       "    </tr>\n",
       "    <tr>\n",
       "      <th>75%</th>\n",
       "      <td>162180.250000</td>\n",
       "      <td>38.000000</td>\n",
       "      <td>1.000000</td>\n",
       "    </tr>\n",
       "    <tr>\n",
       "      <th>max</th>\n",
       "      <td>182907.000000</td>\n",
       "      <td>96.000000</td>\n",
       "      <td>1.000000</td>\n",
       "    </tr>\n",
       "  </tbody>\n",
       "</table>\n",
       "</div>"
      ],
      "text/plain": [
       "             user_id           age      customer\n",
       "count   82908.000000  82908.000000  82908.000000\n",
       "mean   141453.500000     31.151734      0.297848\n",
       "std     23933.622396     11.596902      0.457315\n",
       "min    100000.000000     12.000000      0.000000\n",
       "25%    120726.750000     22.000000      0.000000\n",
       "50%    141453.500000     29.000000      0.000000\n",
       "75%    162180.250000     38.000000      1.000000\n",
       "max    182907.000000     96.000000      1.000000"
      ]
     },
     "execution_count": 32,
     "metadata": {},
     "output_type": "execute_result"
    }
   ],
   "source": [
    "df.describe() #handy statistics about numerical columns"
   ]
  },
  {
   "cell_type": "markdown",
   "metadata": {},
   "source": [
    "*The describe method gives us basic statistic on the numerical columns. We can observe that the average age of the users in our dataset is at 31 years and that the data contains 70% of non-customers and 30% of customers (mean customer is at 0.297848). The dataset is therefore slightly unbalanced on the target variable.*"
   ]
  },
  {
   "cell_type": "code",
   "execution_count": 77,
   "metadata": {},
   "outputs": [
    {
     "data": {
      "text/plain": [
       "0    58214\n",
       "1    24694\n",
       "Name: customer, dtype: int64"
      ]
     },
     "execution_count": 77,
     "metadata": {},
     "output_type": "execute_result"
    }
   ],
   "source": [
    "df['customer'].value_counts() # Quick check on the values in the customer column"
   ]
  },
  {
   "cell_type": "code",
   "execution_count": 49,
   "metadata": {},
   "outputs": [
    {
     "data": {
      "text/plain": [
       "00 Organic             21795\n",
       "12 PINTEREST           13564\n",
       "11 FB                   8857\n",
       "22 Adwords (Search)     7371\n",
       "95 LAT                  7043\n",
       "41 Youtube              6522\n",
       "31 OUTBRAIN             6237\n",
       "42 Adcolony             4806\n",
       "32 Taboola              2789\n",
       "21 ASA                  2108\n",
       "69 Others                876\n",
       "62 Social Media          550\n",
       "61 Web/Content           390\n",
       "Name: channel, dtype: int64"
      ]
     },
     "execution_count": 49,
     "metadata": {},
     "output_type": "execute_result"
    }
   ],
   "source": [
    "df[\"channel\"].value_counts() # Quick check on the values in the channel column"
   ]
  },
  {
   "cell_type": "code",
   "execution_count": 51,
   "metadata": {},
   "outputs": [
    {
     "data": {
      "text/plain": [
       "US    50855\n",
       "GB     9226\n",
       "MX     5755\n",
       "CA     4483\n",
       "ES     4172\n",
       "AU     3398\n",
       "DE     2849\n",
       "FR     2170\n",
       "Name: country, dtype: int64"
      ]
     },
     "execution_count": 51,
     "metadata": {},
     "output_type": "execute_result"
    }
   ],
   "source": [
    "df[\"country\"].value_counts() # Quick check on the values in the customer column"
   ]
  },
  {
   "cell_type": "code",
   "execution_count": 14,
   "metadata": {},
   "outputs": [
    {
     "data": {
      "text/plain": [
       "array([12, 13, 14, 15, 16, 17, 18, 19, 20, 21, 22, 23, 24, 25, 26, 27, 28,\n",
       "       29, 30, 31, 32, 33, 34, 35, 36, 37, 38, 39, 40, 41, 42, 43, 44, 45,\n",
       "       46, 47, 48, 49, 50, 51, 52, 53, 54, 55, 56, 57, 58, 59, 60, 61, 62,\n",
       "       63, 64, 65, 66, 67, 68, 69, 70, 71, 72, 73, 74, 75, 76, 77, 78, 79,\n",
       "       80, 81, 82, 83, 85, 86, 87, 94, 95, 96])"
      ]
     },
     "execution_count": 14,
     "metadata": {},
     "output_type": "execute_result"
    }
   ],
   "source": [
    "np.sort(df[\"age\"].unique()) # Quick check on the values in the age column"
   ]
  },
  {
   "cell_type": "code",
   "execution_count": 11,
   "metadata": {},
   "outputs": [
    {
     "data": {
      "text/plain": [
       "female    57031\n",
       "male      25877\n",
       "Name: gender, dtype: int64"
      ]
     },
     "execution_count": 11,
     "metadata": {},
     "output_type": "execute_result"
    }
   ],
   "source": [
    "df[\"gender\"].value_counts() # Quick check on the values in the gender column"
   ]
  },
  {
   "cell_type": "code",
   "execution_count": 54,
   "metadata": {},
   "outputs": [
    {
     "data": {
      "text/plain": [
       "ios        48662\n",
       "android    34246\n",
       "Name: os, dtype: int64"
      ]
     },
     "execution_count": 54,
     "metadata": {},
     "output_type": "execute_result"
    }
   ],
   "source": [
    "df[\"os\"].value_counts() # Quick check on the values in the os column"
   ]
  },
  {
   "cell_type": "markdown",
   "metadata": {},
   "source": [
    "**4\\. Data visualization**"
   ]
  },
  {
   "cell_type": "code",
   "execution_count": 17,
   "metadata": {},
   "outputs": [
    {
     "data": {
      "image/png": "[encoded data removed]",
      "text/plain": [
       "<matplotlib.figure.Figure at 0x7f5df3f80e10>"
      ]
     },
     "metadata": {},
     "output_type": "display_data"
    }
   ],
   "source": [
    "# Set up a grid of plots\n",
    "fig = plt.figure(figsize=(20, 20)) \n",
    "fig_dims = (3, 3)\n",
    "\n",
    "# Plot channel counts\n",
    "plt.subplot2grid(fig_dims, (0, 0))\n",
    "df['channel'].value_counts().plot(kind='bar', title='Channel Counts')\n",
    "\n",
    "# Plot age counts\n",
    "plt.subplot2grid(fig_dims, (0, 1))\n",
    "df['age'].hist(rwidth = 0.8, zorder=1)\n",
    "plt.title('Age Histogram')\n",
    "\n",
    "# Plot os counts\n",
    "plt.subplot2grid(fig_dims, (1, 0))\n",
    "df['os'].value_counts().plot(kind='bar', title='Os Counts')\n",
    "plt.xticks(rotation=0)\n",
    "\n",
    "# Plot gender counts\n",
    "plt.subplot2grid(fig_dims, (1, 1))\n",
    "df['gender'].value_counts().plot(kind='bar', title='Gender Counts')\n",
    "plt.xticks(rotation=0)\n",
    "\n",
    "# Plot country counts\n",
    "plt.subplot2grid(fig_dims, (2, 0))\n",
    "df['country'].value_counts().plot(kind='bar', title='Country Counts')\n",
    "\n",
    "# Plot customer counts\n",
    "plt.subplot2grid(fig_dims, (2, 1))\n",
    "df['customer'].value_counts().plot(kind='bar', title='Customer Counts')\n",
    "plt.xticks(rotation=0)\n",
    "\n",
    "plt.tight_layout()"
   ]
  },
  {
   "cell_type": "markdown",
   "metadata": {},
   "source": [
    "*These six charts enable to get a good grasp about our dataset. Some insights:*\n",
    "- *Half of the users come from the following three channels: Organic, Pinterest and Facebook*\n",
    "- *The users are mainly between 20 and forty years old.*\n",
    "- *There are more users on Android but the difference is slight*\n",
    "- *The females clearly outnumber the number of males (more than the double)*\n",
    "- *US is the country with most users by far (more than half of the total users)*\n"
   ]
  },
  {
   "cell_type": "code",
   "execution_count": 28,
   "metadata": {},
   "outputs": [
    {
     "data": {
      "image/png": "[encoded data removed]",
      "text/plain": [
       "<matplotlib.figure.Figure at 0x7f5def7e77b8>"
      ]
     },
     "metadata": {},
     "output_type": "display_data"
    }
   ],
   "source": [
    "chan = pd.crosstab(df['channel'],df['customer'])\n",
    "\n",
    "chan = chan.div(chan.sum(1).astype(float), axis=0)\n",
    "chan.plot(kind='bar', stacked=True, title='Customer conversion per channel')\n",
    "plt.xlabel('Passenger Class')\n",
    "plt.ylabel('Survival Rate')\n",
    "\n",
    "fig = plt.gcf()\n",
    "fig.set_size_inches(15, 5)"
   ]
  },
  {
   "cell_type": "code",
   "execution_count": 35,
   "metadata": {
    "scrolled": true
   },
   "outputs": [
    {
     "data": {
      "text/plain": [
       "<matplotlib.text.Text at 0x7f5def85def0>"
      ]
     },
     "execution_count": 35,
     "metadata": {},
     "output_type": "execute_result"
    },
    {
     "data": {
      "image/png": "[encoded data removed]",
      "text/plain": [
       "<matplotlib.figure.Figure at 0x7f5df3ea0940>"
      ]
     },
     "metadata": {},
     "output_type": "display_data"
    }
   ],
   "source": [
    "bins = [0, 5, 10, 15, 20, 25, 30, 35, 40, 45, 50, 55, 60, 65, 70, 75, 80, 85, 90, 95, 100]\n",
    "group_names = ['0-5', '5-10','10-15', '15-20', '20-25', '25-30',\n",
    "               '30-35', '35-40','40-45', '45-50', '50-55', '55-60','60-65',\n",
    "               '65-70','70-75','75-80','80-85','85-90','90-95','95-100' ]\n",
    "df['age_groups'] = pd.cut(df['age'], bins, labels = group_names)\n",
    "pd.crosstab(df['age_groups'], df['customer']).plot(kind = 'bar', figsize = (15, 5))\n",
    "\n",
    "plt.title('Customer conversion per age')\n",
    "plt.xlabel('Age groups')\n",
    "plt.ylabel('Frequency')"
   ]
  },
  {
   "cell_type": "markdown",
   "metadata": {},
   "source": [
    "**5\\. Data Cleaning**"
   ]
  },
  {
   "cell_type": "code",
   "execution_count": 61,
   "metadata": {
    "collapsed": true
   },
   "outputs": [],
   "source": [
    "def cleaning(df):\n",
    "    df = df.drop('user_id', axis = 1) #remove the user_id as this is irrelevant for the prediction\n",
    "    \n",
    "    for i in df.columns: #loop on every object column and convert it to dommuy variable\n",
    "        if df[i].dtype == \"O\":\n",
    "            df = pd.concat([df, pd.get_dummies(df[i], prefix = i)], axis=1)\n",
    "            del df[i]\n",
    "            \n",
    "    df_x = df.drop([\"customer\"], axis = 1)\n",
    "    df_y = df[\"customer\"]\n",
    "    \n",
    "    return df_x, df_y"
   ]
  },
  {
   "cell_type": "markdown",
   "metadata": {},
   "source": [
    "**6\\. Machine Learning (Prediction)**"
   ]
  },
  {
   "cell_type": "code",
   "execution_count": 62,
   "metadata": {
    "collapsed": true
   },
   "outputs": [],
   "source": [
    "# #return a two dataframes that will be used for fitting a machine learning model (df_x and df_y)\n",
    "df_x, df_y = cleaning(df)"
   ]
  },
  {
   "cell_type": "code",
   "execution_count": 65,
   "metadata": {},
   "outputs": [
    {
     "name": "stdout",
     "output_type": "stream",
     "text": [
      "<class 'pandas.core.frame.DataFrame'>\n",
      "RangeIndex: 82908 entries, 0 to 82907\n",
      "Data columns (total 26 columns):\n",
      "age                            82908 non-null int64\n",
      "channel_00 Organic             82908 non-null uint8\n",
      "channel_11 FB                  82908 non-null uint8\n",
      "channel_12 PINTEREST           82908 non-null uint8\n",
      "channel_21 ASA                 82908 non-null uint8\n",
      "channel_22 Adwords (Search)    82908 non-null uint8\n",
      "channel_31 OUTBRAIN            82908 non-null uint8\n",
      "channel_32 Taboola             82908 non-null uint8\n",
      "channel_41 Youtube             82908 non-null uint8\n",
      "channel_42 Adcolony            82908 non-null uint8\n",
      "channel_61 Web/Content         82908 non-null uint8\n",
      "channel_62 Social Media        82908 non-null uint8\n",
      "channel_69 Others              82908 non-null uint8\n",
      "channel_95 LAT                 82908 non-null uint8\n",
      "os_android                     82908 non-null uint8\n",
      "os_ios                         82908 non-null uint8\n",
      "gender_female                  82908 non-null uint8\n",
      "gender_male                    82908 non-null uint8\n",
      "country_AU                     82908 non-null uint8\n",
      "country_CA                     82908 non-null uint8\n",
      "country_DE                     82908 non-null uint8\n",
      "country_ES                     82908 non-null uint8\n",
      "country_FR                     82908 non-null uint8\n",
      "country_GB                     82908 non-null uint8\n",
      "country_MX                     82908 non-null uint8\n",
      "country_US                     82908 non-null uint8\n",
      "dtypes: int64(1), uint8(25)\n",
      "memory usage: 2.6 MB\n"
     ]
    }
   ],
   "source": [
    "df_x.info() #sanity check to see that there are no more columns of type \"Objects\""
   ]
  },
  {
   "cell_type": "code",
   "execution_count": 74,
   "metadata": {},
   "outputs": [
    {
     "name": "stdout",
     "output_type": "stream",
     "text": [
      "size of original df:  82908\n",
      "size of training df:  66326\n",
      "size of cross-validation df:  16582\n"
     ]
    }
   ],
   "source": [
    "# Split 80-20 train vs cross-validation data\n",
    "train_x, cv_x, train_y, cv_y = train_test_split(df_x, df_y, test_size=0.2, random_state=0)\n",
    "print (\"size of original df: \",df_x.shape[0])\n",
    "print (\"size of training df: \",train_x.shape[0])\n",
    "print (\"size of cross-validation df: \",cv_x.shape[0])"
   ]
  },
  {
   "cell_type": "code",
   "execution_count": 151,
   "metadata": {},
   "outputs": [
    {
     "name": "stdout",
     "output_type": "stream",
     "text": [
      "Grid best parameter (max. accuracy):  {'logisticregression__C': 0.03, 'logisticregression__class_weight': None, 'logisticregression__max_iter': 100}\n",
      "Grid best score (accuracy):  0.70705304104\n"
     ]
    }
   ],
   "source": [
    "# Logistic Regression model\n",
    "\n",
    "estimators = [\n",
    "            ('scale_predictors', StandardScaler()),\n",
    "            ('logisticregression', LogisticRegression())\n",
    "            ]\n",
    "\n",
    "clf = Pipeline(estimators)\n",
    "\n",
    "grid_values = dict(logisticregression__C = [0.03, 0.1, 0.3, 1, 3, 10], # Inverse of the regularization factor.\n",
    "               logisticregression__max_iter= [100, 500, 1000],\n",
    "               logisticregression__class_weight= ['balanced', None])\n",
    "              \n",
    "\n",
    "# default metric to optimize over grid parameters: accuracy\n",
    "grid_clf_acc = GridSearchCV(clf, param_grid = grid_values, scoring = 'accuracy')\n",
    "grid_clf_acc.fit(train_x, train_y)\n",
    "\n",
    "print('Grid best parameter (max. accuracy): ', grid_clf_acc.best_params_)\n",
    "print('Grid best score (accuracy): ', grid_clf_acc.best_score_)\n"
   ]
  },
  {
   "cell_type": "code",
   "execution_count": 150,
   "metadata": {},
   "outputs": [
    {
     "name": "stdout",
     "output_type": "stream",
     "text": [
      "0.618 (+/-0.003) for {'logisticregression__C': 0.03, 'logisticregression__class_weight': 'balanced', 'logisticregression__max_iter': 100}\n",
      "0.618 (+/-0.003) for {'logisticregression__C': 0.03, 'logisticregression__class_weight': 'balanced', 'logisticregression__max_iter': 500}\n",
      "0.618 (+/-0.003) for {'logisticregression__C': 0.03, 'logisticregression__class_weight': 'balanced', 'logisticregression__max_iter': 1000}\n",
      "0.707 (+/-0.003) for {'logisticregression__C': 0.03, 'logisticregression__class_weight': None, 'logisticregression__max_iter': 100}\n",
      "0.707 (+/-0.003) for {'logisticregression__C': 0.03, 'logisticregression__class_weight': None, 'logisticregression__max_iter': 500}\n",
      "0.707 (+/-0.003) for {'logisticregression__C': 0.03, 'logisticregression__class_weight': None, 'logisticregression__max_iter': 1000}\n",
      "0.618 (+/-0.003) for {'logisticregression__C': 0.1, 'logisticregression__class_weight': 'balanced', 'logisticregression__max_iter': 100}\n",
      "0.618 (+/-0.003) for {'logisticregression__C': 0.1, 'logisticregression__class_weight': 'balanced', 'logisticregression__max_iter': 500}\n",
      "0.618 (+/-0.003) for {'logisticregression__C': 0.1, 'logisticregression__class_weight': 'balanced', 'logisticregression__max_iter': 1000}\n",
      "0.707 (+/-0.003) for {'logisticregression__C': 0.1, 'logisticregression__class_weight': None, 'logisticregression__max_iter': 100}\n",
      "0.707 (+/-0.003) for {'logisticregression__C': 0.1, 'logisticregression__class_weight': None, 'logisticregression__max_iter': 500}\n",
      "0.707 (+/-0.003) for {'logisticregression__C': 0.1, 'logisticregression__class_weight': None, 'logisticregression__max_iter': 1000}\n",
      "0.618 (+/-0.003) for {'logisticregression__C': 0.3, 'logisticregression__class_weight': 'balanced', 'logisticregression__max_iter': 100}\n",
      "0.618 (+/-0.003) for {'logisticregression__C': 0.3, 'logisticregression__class_weight': 'balanced', 'logisticregression__max_iter': 500}\n",
      "0.618 (+/-0.003) for {'logisticregression__C': 0.3, 'logisticregression__class_weight': 'balanced', 'logisticregression__max_iter': 1000}\n",
      "0.707 (+/-0.003) for {'logisticregression__C': 0.3, 'logisticregression__class_weight': None, 'logisticregression__max_iter': 100}\n",
      "0.707 (+/-0.003) for {'logisticregression__C': 0.3, 'logisticregression__class_weight': None, 'logisticregression__max_iter': 500}\n",
      "0.707 (+/-0.003) for {'logisticregression__C': 0.3, 'logisticregression__class_weight': None, 'logisticregression__max_iter': 1000}\n",
      "0.618 (+/-0.003) for {'logisticregression__C': 1, 'logisticregression__class_weight': 'balanced', 'logisticregression__max_iter': 100}\n",
      "0.618 (+/-0.003) for {'logisticregression__C': 1, 'logisticregression__class_weight': 'balanced', 'logisticregression__max_iter': 500}\n",
      "0.618 (+/-0.003) for {'logisticregression__C': 1, 'logisticregression__class_weight': 'balanced', 'logisticregression__max_iter': 1000}\n",
      "0.707 (+/-0.003) for {'logisticregression__C': 1, 'logisticregression__class_weight': None, 'logisticregression__max_iter': 100}\n",
      "0.707 (+/-0.003) for {'logisticregression__C': 1, 'logisticregression__class_weight': None, 'logisticregression__max_iter': 500}\n",
      "0.707 (+/-0.003) for {'logisticregression__C': 1, 'logisticregression__class_weight': None, 'logisticregression__max_iter': 1000}\n",
      "0.618 (+/-0.003) for {'logisticregression__C': 3, 'logisticregression__class_weight': 'balanced', 'logisticregression__max_iter': 100}\n",
      "0.618 (+/-0.003) for {'logisticregression__C': 3, 'logisticregression__class_weight': 'balanced', 'logisticregression__max_iter': 500}\n",
      "0.618 (+/-0.003) for {'logisticregression__C': 3, 'logisticregression__class_weight': 'balanced', 'logisticregression__max_iter': 1000}\n",
      "0.707 (+/-0.003) for {'logisticregression__C': 3, 'logisticregression__class_weight': None, 'logisticregression__max_iter': 100}\n",
      "0.707 (+/-0.003) for {'logisticregression__C': 3, 'logisticregression__class_weight': None, 'logisticregression__max_iter': 500}\n",
      "0.707 (+/-0.003) for {'logisticregression__C': 3, 'logisticregression__class_weight': None, 'logisticregression__max_iter': 1000}\n",
      "0.618 (+/-0.003) for {'logisticregression__C': 10, 'logisticregression__class_weight': 'balanced', 'logisticregression__max_iter': 100}\n",
      "0.618 (+/-0.003) for {'logisticregression__C': 10, 'logisticregression__class_weight': 'balanced', 'logisticregression__max_iter': 500}\n",
      "0.618 (+/-0.003) for {'logisticregression__C': 10, 'logisticregression__class_weight': 'balanced', 'logisticregression__max_iter': 1000}\n",
      "0.707 (+/-0.003) for {'logisticregression__C': 10, 'logisticregression__class_weight': None, 'logisticregression__max_iter': 100}\n",
      "0.707 (+/-0.003) for {'logisticregression__C': 10, 'logisticregression__class_weight': None, 'logisticregression__max_iter': 500}\n",
      "0.707 (+/-0.003) for {'logisticregression__C': 10, 'logisticregression__class_weight': None, 'logisticregression__max_iter': 1000}\n"
     ]
    }
   ],
   "source": [
    "means = grid_clf_acc.cv_results_['mean_test_score']\n",
    "stds = grid_clf_acc.cv_results_['std_test_score']\n",
    "for mean, std, params in zip(means, stds, grid_clf_acc.cv_results_['params']):\n",
    "    print(\"%0.3f (+/-%0.03f) for %r\"% (mean, std * 2, params))"
   ]
  },
  {
   "cell_type": "code",
   "execution_count": 145,
   "metadata": {},
   "outputs": [
    {
     "data": {
      "text/plain": [
       "['logisticregression__C',\n",
       " 'logisticregression__max_iter',\n",
       " 'logisticregression__class_weight']"
      ]
     },
     "execution_count": 145,
     "metadata": {},
     "output_type": "execute_result"
    }
   ],
   "source": [
    "#grid_clf_acc.grid_scores_[a]\n",
    "list(grid_clf_acc.param_grid)"
   ]
  },
  {
   "cell_type": "code",
   "execution_count": 147,
   "metadata": {
    "collapsed": true
   },
   "outputs": [],
   "source": [
    "def performance(results, param1, param2):\n",
    "    param1_vals = [x.parameters[param1] for x in results.grid_scores_]\n",
    "    param2_vals = [x.parameters[param2] for x in results.grid_scores_]\n",
    "    means = [x.mean_validation_score for x in results.grid_scores_]\n",
    "    df = pd.DataFrame(list(zip(param1_vals, param2_vals, means)), columns = [param1, param2, 'means'])\n",
    "    df.fillna('None', inplace=True)\n",
    "    return pd.pivot_table(df, values = 'means' , index = param1, columns = param2)"
   ]
  },
  {
   "cell_type": "code",
   "execution_count": 148,
   "metadata": {},
   "outputs": [
    {
     "name": "stdout",
     "output_type": "stream",
     "text": [
      "logisticregression__max_iter      100       500       1000\n",
      "logisticregression__C                                     \n",
      "0.01                          0.662463  0.662463  0.662463\n",
      "0.03                          0.662500  0.662500  0.662500\n",
      "0.10                          0.662402  0.662402  0.662402\n",
      "0.30                          0.662402  0.662402  0.662402\n",
      "1.00                          0.662410  0.662410  0.662410\n",
      "3.00                          0.662410  0.662410  0.662410\n",
      "10.00                         0.662410  0.662410  0.662410\n",
      "30.00                         0.662410  0.662410  0.662410\n",
      "100.00                        0.662410  0.662410  0.662410\n"
     ]
    },
    {
     "name": "stderr",
     "output_type": "stream",
     "text": [
      "/home/charles/anaconda3/lib/python3.6/site-packages/sklearn/model_selection/_search.py:747: DeprecationWarning: The grid_scores_ attribute was deprecated in version 0.18 in favor of the more elaborate cv_results_ attribute. The grid_scores_ attribute will not be available from 0.20\n",
      "  DeprecationWarning)\n",
      "/home/charles/anaconda3/lib/python3.6/site-packages/sklearn/model_selection/_search.py:747: DeprecationWarning: The grid_scores_ attribute was deprecated in version 0.18 in favor of the more elaborate cv_results_ attribute. The grid_scores_ attribute will not be available from 0.20\n",
      "  DeprecationWarning)\n",
      "/home/charles/anaconda3/lib/python3.6/site-packages/sklearn/model_selection/_search.py:747: DeprecationWarning: The grid_scores_ attribute was deprecated in version 0.18 in favor of the more elaborate cv_results_ attribute. The grid_scores_ attribute will not be available from 0.20\n",
      "  DeprecationWarning)\n"
     ]
    }
   ],
   "source": [
    "a = list(grid_clf_acc.param_grid)\n",
    "\n",
    "train_results = performance(grid_clf_acc, a[0],  a[1])\n",
    "\n",
    "print(train_results)\n"
   ]
  },
  {
   "cell_type": "code",
   "execution_count": 141,
   "metadata": {
    "collapsed": true
   },
   "outputs": [],
   "source": [
    "#Neural Network\n",
    "from keras.models import Sequential\n",
    "from keras.layers import Dense"
   ]
  },
  {
   "cell_type": "code",
   "execution_count": 142,
   "metadata": {
    "collapsed": true
   },
   "outputs": [],
   "source": [
    "# create model\n",
    "model = Sequential()\n",
    "model.add(Dense(12, input_dim=26, activation='relu'))\n",
    "model.add(Dense(10, activation='relu'))\n",
    "model.add(Dense(1, activation='sigmoid'))"
   ]
  },
  {
   "cell_type": "code",
   "execution_count": 143,
   "metadata": {
    "collapsed": true
   },
   "outputs": [],
   "source": [
    "# Compile model\n",
    "model.compile(loss='binary_crossentropy', optimizer='adam', metrics=['accuracy'])"
   ]
  },
  {
   "cell_type": "code",
   "execution_count": 144,
   "metadata": {},
   "outputs": [
    {
     "name": "stdout",
     "output_type": "stream",
     "text": [
      "Epoch 1/10\n",
      "66326/66326 [==============================] - 8s - loss: 0.5962 - acc: 0.7038     \n",
      "Epoch 2/10\n",
      "66326/66326 [==============================] - 10s - loss: 0.5878 - acc: 0.7053    \n",
      "Epoch 3/10\n",
      "66326/66326 [==============================] - 9s - loss: 0.5867 - acc: 0.7054     \n",
      "Epoch 4/10\n",
      "66326/66326 [==============================] - 9s - loss: 0.5861 - acc: 0.7060     \n",
      "Epoch 5/10\n",
      "66326/66326 [==============================] - 9s - loss: 0.5855 - acc: 0.7054     \n",
      "Epoch 6/10\n",
      "66326/66326 [==============================] - 11s - loss: 0.5850 - acc: 0.7063    \n",
      "Epoch 7/10\n",
      "66326/66326 [==============================] - 9s - loss: 0.5847 - acc: 0.7063     \n",
      "Epoch 8/10\n",
      "66326/66326 [==============================] - 9s - loss: 0.5842 - acc: 0.7052     \n",
      "Epoch 9/10\n",
      "66326/66326 [==============================] - 10s - loss: 0.5841 - acc: 0.7065    \n",
      "Epoch 10/10\n",
      "66326/66326 [==============================] - 9s - loss: 0.5838 - acc: 0.7062     \n"
     ]
    },
    {
     "data": {
      "text/plain": [
       "<keras.callbacks.History at 0x7f203f163d68>"
      ]
     },
     "execution_count": 144,
     "metadata": {},
     "output_type": "execute_result"
    }
   ],
   "source": [
    "# Fit the model\n",
    "import numpy as np\n",
    "model.fit(np.array(train_x), np.array(train_y), epochs=10, batch_size=10)"
   ]
  },
  {
   "cell_type": "markdown",
   "metadata": {},
   "source": [
    "**7\\. Prediction on the test set**"
   ]
  },
  {
   "cell_type": "code",
   "execution_count": 26,
   "metadata": {
    "collapsed": true
   },
   "outputs": [],
   "source": [
    "df_test_set = pd.read_csv(\"test_data.csv.csv_fixed\")"
   ]
  },
  {
   "cell_type": "code",
   "execution_count": null,
   "metadata": {
    "collapsed": true
   },
   "outputs": [],
   "source": [
    "df_test_x, df_test_y = dfcleaning(df_test_set)"
   ]
  },
  {
   "cell_type": "code",
   "execution_count": null,
   "metadata": {
    "collapsed": true
   },
   "outputs": [],
   "source": [
    "predict_y = clf.predict(df_x)"
   ]
  }
 ],
 "metadata": {
  "kernelspec": {
   "display_name": "Python 3",
   "language": "python",
   "name": "python3"
  },
  "language_info": {
   "codemirror_mode": {
    "name": "ipython",
    "version": 3
   },
   "file_extension": ".py",
   "mimetype": "text/x-python",
   "name": "python",
   "nbconvert_exporter": "python",
   "pygments_lexer": "ipython3",
   "version": "3.6.1"
  }
 },
 "nbformat": 4,
 "nbformat_minor": 2
}
